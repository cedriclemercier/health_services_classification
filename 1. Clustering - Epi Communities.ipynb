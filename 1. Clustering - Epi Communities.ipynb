{
 "cells": [
  {
   "cell_type": "markdown",
   "id": "00fc323f",
   "metadata": {},
   "source": [
    "# Clustering Epi Communities\n",
    "\n",
    "In this notebook we'll attempt to cluster classify the different epi communities"
   ]
  },
  {
   "cell_type": "markdown",
   "id": "15eada4b",
   "metadata": {},
   "source": [
    "# 1. Load data and Exploration"
   ]
  },
  {
   "cell_type": "code",
   "execution_count": 1,
   "id": "74cb7626",
   "metadata": {},
   "outputs": [],
   "source": [
    "import pandas as pd\n",
    "import numpy as np\n",
    "import seaborn as sns\n",
    "import matplotlib.pyplot as plt"
   ]
  },
  {
   "cell_type": "code",
   "execution_count": 2,
   "id": "510de3b1",
   "metadata": {
    "scrolled": true
   },
   "outputs": [
    {
     "data": {
      "text/html": [
       "<div>\n",
       "<style scoped>\n",
       "    .dataframe tbody tr th:only-of-type {\n",
       "        vertical-align: middle;\n",
       "    }\n",
       "\n",
       "    .dataframe tbody tr th {\n",
       "        vertical-align: top;\n",
       "    }\n",
       "\n",
       "    .dataframe thead th {\n",
       "        text-align: right;\n",
       "    }\n",
       "</style>\n",
       "<table border=\"1\" class=\"dataframe\">\n",
       "  <thead>\n",
       "    <tr style=\"text-align: right;\">\n",
       "      <th></th>\n",
       "      <th>EPI_ID</th>\n",
       "      <th>EPI_T_EN</th>\n",
       "      <th>IMM_S</th>\n",
       "      <th>TS_C</th>\n",
       "      <th>TS_N_EN</th>\n",
       "      <th>CT_C</th>\n",
       "      <th>CT_N_MM</th>\n",
       "      <th>VW_C</th>\n",
       "      <th>VW_T</th>\n",
       "      <th>VI_C</th>\n",
       "      <th>HF_L1_C</th>\n",
       "      <th>HF_L1_T</th>\n",
       "      <th>EPI_S_P</th>\n",
       "      <th>EP_S_U1</th>\n",
       "      <th>EP_S_U5</th>\n",
       "      <th>EP_S_U15</th>\n",
       "      <th>EP_S_PW</th>\n",
       "      <th>EP_S_WCBA</th>\n",
       "    </tr>\n",
       "  </thead>\n",
       "  <tbody>\n",
       "    <tr>\n",
       "      <th>0</th>\n",
       "      <td>EPI00001559</td>\n",
       "      <td>Workers settlement</td>\n",
       "      <td>F</td>\n",
       "      <td>MMR013005</td>\n",
       "      <td>Taikkyi</td>\n",
       "      <td>NaN</td>\n",
       "      <td>NaN</td>\n",
       "      <td>MMR013005067</td>\n",
       "      <td>Village Track</td>\n",
       "      <td>150060</td>\n",
       "      <td>HF008182</td>\n",
       "      <td>Sub Rural Health Center</td>\n",
       "      <td>37.0</td>\n",
       "      <td>0.0</td>\n",
       "      <td>7.0</td>\n",
       "      <td>14.0</td>\n",
       "      <td>2.0</td>\n",
       "      <td>10.0</td>\n",
       "    </tr>\n",
       "    <tr>\n",
       "      <th>1</th>\n",
       "      <td>EPI00001870</td>\n",
       "      <td>Village</td>\n",
       "      <td>F</td>\n",
       "      <td>MMR013006</td>\n",
       "      <td>Htantabin</td>\n",
       "      <td>NaN</td>\n",
       "      <td>NaN</td>\n",
       "      <td>MMR013006048</td>\n",
       "      <td>Village Track</td>\n",
       "      <td>150167</td>\n",
       "      <td>HF008162</td>\n",
       "      <td>Rural Health Center</td>\n",
       "      <td>947.0</td>\n",
       "      <td>22.0</td>\n",
       "      <td>36.0</td>\n",
       "      <td>189.0</td>\n",
       "      <td>25.0</td>\n",
       "      <td>255.0</td>\n",
       "    </tr>\n",
       "    <tr>\n",
       "      <th>2</th>\n",
       "      <td>EPI00001871</td>\n",
       "      <td>Other settlement</td>\n",
       "      <td>F</td>\n",
       "      <td>MMR013006</td>\n",
       "      <td>Htantabin</td>\n",
       "      <td>NaN</td>\n",
       "      <td>NaN</td>\n",
       "      <td>MMR013006048</td>\n",
       "      <td>Village Track</td>\n",
       "      <td>150167</td>\n",
       "      <td>HF008162</td>\n",
       "      <td>Rural Health Center</td>\n",
       "      <td>89.0</td>\n",
       "      <td>0.0</td>\n",
       "      <td>5.0</td>\n",
       "      <td>25.0</td>\n",
       "      <td>1.0</td>\n",
       "      <td>26.0</td>\n",
       "    </tr>\n",
       "  </tbody>\n",
       "</table>\n",
       "</div>"
      ],
      "text/plain": [
       "        EPI_ID            EPI_T_EN IMM_S       TS_C    TS_N_EN CT_C CT_N_MM  \\\n",
       "0  EPI00001559  Workers settlement     F  MMR013005    Taikkyi  NaN     NaN   \n",
       "1  EPI00001870             Village     F  MMR013006  Htantabin  NaN     NaN   \n",
       "2  EPI00001871    Other settlement     F  MMR013006  Htantabin  NaN     NaN   \n",
       "\n",
       "           VW_C           VW_T    VI_C   HF_L1_C                  HF_L1_T  \\\n",
       "0  MMR013005067  Village Track  150060  HF008182  Sub Rural Health Center   \n",
       "1  MMR013006048  Village Track  150167  HF008162      Rural Health Center   \n",
       "2  MMR013006048  Village Track  150167  HF008162      Rural Health Center   \n",
       "\n",
       "   EPI_S_P  EP_S_U1  EP_S_U5  EP_S_U15  EP_S_PW  EP_S_WCBA  \n",
       "0     37.0      0.0      7.0      14.0      2.0       10.0  \n",
       "1    947.0     22.0     36.0     189.0     25.0      255.0  \n",
       "2     89.0      0.0      5.0      25.0      1.0       26.0  "
      ]
     },
     "execution_count": 2,
     "metadata": {},
     "output_type": "execute_result"
    }
   ],
   "source": [
    "# Import the data\n",
    "\n",
    "raw_df = pd.read_csv('datasets/epi_communities - epi_communities.csv')\n",
    "raw_df[:3]"
   ]
  },
  {
   "cell_type": "code",
   "execution_count": 3,
   "id": "4e5ff6b4",
   "metadata": {},
   "outputs": [
    {
     "data": {
      "text/plain": [
       "553"
      ]
     },
     "execution_count": 3,
     "metadata": {},
     "output_type": "execute_result"
    }
   ],
   "source": [
    "len(raw_df)"
   ]
  },
  {
   "cell_type": "code",
   "execution_count": 4,
   "id": "44824c9c",
   "metadata": {},
   "outputs": [
    {
     "data": {
      "text/plain": [
       "EPI_ID         0\n",
       "EPI_T_EN       0\n",
       "IMM_S          1\n",
       "TS_C           0\n",
       "TS_N_EN        0\n",
       "CT_C         435\n",
       "CT_N_MM      435\n",
       "VW_C           0\n",
       "VW_T           0\n",
       "VI_C         119\n",
       "HF_L1_C        0\n",
       "HF_L1_T        0\n",
       "EPI_S_P        1\n",
       "EP_S_U1        1\n",
       "EP_S_U5        1\n",
       "EP_S_U15       1\n",
       "EP_S_PW        1\n",
       "EP_S_WCBA      1\n",
       "dtype: int64"
      ]
     },
     "execution_count": 4,
     "metadata": {},
     "output_type": "execute_result"
    }
   ],
   "source": [
    "raw_df.isnull().sum()"
   ]
  },
  {
   "cell_type": "code",
   "execution_count": 58,
   "id": "dab5a1a0",
   "metadata": {},
   "outputs": [
    {
     "data": {
      "text/plain": [
       "MMR013008701    56\n",
       "MMR013038701    29\n",
       "MMR013039701    18\n",
       "MMR013033701     9\n",
       "MMR013006701     6\n",
       "Name: CT_C, dtype: int64"
      ]
     },
     "execution_count": 58,
     "metadata": {},
     "output_type": "execute_result"
    }
   ],
   "source": [
    "raw_df['CT_C'].value_countsounts()"
   ]
  },
  {
   "cell_type": "markdown",
   "id": "c8164b83",
   "metadata": {},
   "source": [
    "## 1.1 Data Cleaning"
   ]
  },
  {
   "cell_type": "markdown",
   "id": "464a696c",
   "metadata": {},
   "source": [
    "A lot of null values for `CT_C` and `CT_N_MM`, let's remove them.\n",
    "Lengthy classes with numerous null or unknown data `VI_C`, lengthy `VW_C`, `HF_L1_C`\n",
    "For now let's keep the IDS to be used later `EPI_ID`\n",
    "\n",
    "**Important points**\n",
    "- `HF_L1_T` has a lot of null vales in the following form: `?????????????`"
   ]
  },
  {
   "cell_type": "code",
   "execution_count": 5,
   "id": "98f0563d",
   "metadata": {},
   "outputs": [
    {
     "data": {
      "text/plain": [
       "EPI_ID       0\n",
       "EPI_T_EN     0\n",
       "IMM_S        1\n",
       "TS_C         0\n",
       "TS_N_EN      0\n",
       "VW_T         0\n",
       "HF_L1_T      0\n",
       "EPI_S_P      1\n",
       "EP_S_U1      1\n",
       "EP_S_U5      1\n",
       "EP_S_U15     1\n",
       "EP_S_PW      1\n",
       "EP_S_WCBA    1\n",
       "dtype: int64"
      ]
     },
     "execution_count": 5,
     "metadata": {},
     "output_type": "execute_result"
    }
   ],
   "source": [
    "col_df = raw_df.drop(['CT_C', 'CT_N_MM', 'VW_C', 'VI_C', 'HF_L1_C'], axis=1)\n",
    "col_df.isnull().sum()"
   ]
  },
  {
   "cell_type": "markdown",
   "id": "fbd6b55a",
   "metadata": {},
   "source": [
    "### a. Replace null values"
   ]
  },
  {
   "cell_type": "markdown",
   "id": "1ee9f29c",
   "metadata": {},
   "source": [
    "IMM_S has NaN value on row 55, and row 211 is missing all EP_S.. values"
   ]
  },
  {
   "cell_type": "code",
   "execution_count": 6,
   "id": "b23adce0",
   "metadata": {},
   "outputs": [],
   "source": [
    "df = col_df.drop([55, 211], axis=0)"
   ]
  },
  {
   "cell_type": "code",
   "execution_count": 7,
   "id": "691f7197",
   "metadata": {},
   "outputs": [
    {
     "data": {
      "text/plain": [
       "EPI_ID       0\n",
       "EPI_T_EN     0\n",
       "IMM_S        0\n",
       "TS_C         0\n",
       "TS_N_EN      0\n",
       "VW_T         0\n",
       "HF_L1_T      0\n",
       "EPI_S_P      0\n",
       "EP_S_U1      0\n",
       "EP_S_U5      0\n",
       "EP_S_U15     0\n",
       "EP_S_PW      0\n",
       "EP_S_WCBA    0\n",
       "dtype: int64"
      ]
     },
     "execution_count": 7,
     "metadata": {},
     "output_type": "execute_result"
    }
   ],
   "source": [
    "nul = pd.isnull(df['EPI_S_P'])\n",
    "df.isnull().sum()"
   ]
  },
  {
   "cell_type": "markdown",
   "id": "6f2c4c97",
   "metadata": {},
   "source": [
    "**Replace `HF_L1_T` '???????' with an appropriate value or delete**\n",
    "Because it represents only 9 rows on 552, we could delete it. In this case we decide to represent it with a categorical value instead."
   ]
  },
  {
   "cell_type": "code",
   "execution_count": 8,
   "id": "051bf3fa",
   "metadata": {},
   "outputs": [
    {
     "data": {
      "text/plain": [
       "Sub Rural Health Center             374\n",
       "Rural Health Center                  71\n",
       "Urban Health Center                  43\n",
       "Sub Urban Health Center              36\n",
       "Station Health Unit                  12\n",
       "????????????????????                  9\n",
       "Maternal and Child Health Center      6\n",
       "Name: HF_L1_T, dtype: int64"
      ]
     },
     "execution_count": 8,
     "metadata": {},
     "output_type": "execute_result"
    }
   ],
   "source": [
    "df['HF_L1_T'].value_counts()"
   ]
  },
  {
   "cell_type": "markdown",
   "id": "804e2902",
   "metadata": {},
   "source": [
    "### b. Transform data to binary or multi class"
   ]
  },
  {
   "cell_type": "code",
   "execution_count": 9,
   "id": "f6f3d82d",
   "metadata": {},
   "outputs": [
    {
     "data": {
      "text/html": [
       "<div>\n",
       "<style scoped>\n",
       "    .dataframe tbody tr th:only-of-type {\n",
       "        vertical-align: middle;\n",
       "    }\n",
       "\n",
       "    .dataframe tbody tr th {\n",
       "        vertical-align: top;\n",
       "    }\n",
       "\n",
       "    .dataframe thead th {\n",
       "        text-align: right;\n",
       "    }\n",
       "</style>\n",
       "<table border=\"1\" class=\"dataframe\">\n",
       "  <thead>\n",
       "    <tr style=\"text-align: right;\">\n",
       "      <th></th>\n",
       "      <th>EPI_T_EN</th>\n",
       "      <th>IMM_S</th>\n",
       "      <th>TS_C</th>\n",
       "      <th>TS_N_EN</th>\n",
       "      <th>VW_T</th>\n",
       "      <th>HF_L1_T</th>\n",
       "      <th>EPI_S_P</th>\n",
       "      <th>EP_S_U1</th>\n",
       "      <th>EP_S_U5</th>\n",
       "      <th>EP_S_U15</th>\n",
       "      <th>EP_S_PW</th>\n",
       "      <th>EP_S_WCBA</th>\n",
       "    </tr>\n",
       "  </thead>\n",
       "  <tbody>\n",
       "    <tr>\n",
       "      <th>0</th>\n",
       "      <td>3</td>\n",
       "      <td>1</td>\n",
       "      <td>5</td>\n",
       "      <td>5</td>\n",
       "      <td>0</td>\n",
       "      <td>0</td>\n",
       "      <td>37.0</td>\n",
       "      <td>0.0</td>\n",
       "      <td>7.0</td>\n",
       "      <td>14.0</td>\n",
       "      <td>2.0</td>\n",
       "      <td>10.0</td>\n",
       "    </tr>\n",
       "    <tr>\n",
       "      <th>1</th>\n",
       "      <td>0</td>\n",
       "      <td>1</td>\n",
       "      <td>0</td>\n",
       "      <td>0</td>\n",
       "      <td>0</td>\n",
       "      <td>1</td>\n",
       "      <td>947.0</td>\n",
       "      <td>22.0</td>\n",
       "      <td>36.0</td>\n",
       "      <td>189.0</td>\n",
       "      <td>25.0</td>\n",
       "      <td>255.0</td>\n",
       "    </tr>\n",
       "    <tr>\n",
       "      <th>2</th>\n",
       "      <td>1</td>\n",
       "      <td>1</td>\n",
       "      <td>0</td>\n",
       "      <td>0</td>\n",
       "      <td>0</td>\n",
       "      <td>1</td>\n",
       "      <td>89.0</td>\n",
       "      <td>0.0</td>\n",
       "      <td>5.0</td>\n",
       "      <td>25.0</td>\n",
       "      <td>1.0</td>\n",
       "      <td>26.0</td>\n",
       "    </tr>\n",
       "    <tr>\n",
       "      <th>3</th>\n",
       "      <td>0</td>\n",
       "      <td>0</td>\n",
       "      <td>0</td>\n",
       "      <td>0</td>\n",
       "      <td>0</td>\n",
       "      <td>1</td>\n",
       "      <td>386.0</td>\n",
       "      <td>3.0</td>\n",
       "      <td>7.0</td>\n",
       "      <td>39.0</td>\n",
       "      <td>3.0</td>\n",
       "      <td>70.0</td>\n",
       "    </tr>\n",
       "    <tr>\n",
       "      <th>4</th>\n",
       "      <td>0</td>\n",
       "      <td>0</td>\n",
       "      <td>0</td>\n",
       "      <td>0</td>\n",
       "      <td>0</td>\n",
       "      <td>0</td>\n",
       "      <td>186.0</td>\n",
       "      <td>3.0</td>\n",
       "      <td>9.0</td>\n",
       "      <td>43.0</td>\n",
       "      <td>3.0</td>\n",
       "      <td>66.0</td>\n",
       "    </tr>\n",
       "    <tr>\n",
       "      <th>...</th>\n",
       "      <td>...</td>\n",
       "      <td>...</td>\n",
       "      <td>...</td>\n",
       "      <td>...</td>\n",
       "      <td>...</td>\n",
       "      <td>...</td>\n",
       "      <td>...</td>\n",
       "      <td>...</td>\n",
       "      <td>...</td>\n",
       "      <td>...</td>\n",
       "      <td>...</td>\n",
       "      <td>...</td>\n",
       "    </tr>\n",
       "    <tr>\n",
       "      <th>548</th>\n",
       "      <td>1</td>\n",
       "      <td>0</td>\n",
       "      <td>0</td>\n",
       "      <td>0</td>\n",
       "      <td>0</td>\n",
       "      <td>1</td>\n",
       "      <td>32.0</td>\n",
       "      <td>0.0</td>\n",
       "      <td>1.0</td>\n",
       "      <td>4.0</td>\n",
       "      <td>0.0</td>\n",
       "      <td>10.0</td>\n",
       "    </tr>\n",
       "    <tr>\n",
       "      <th>549</th>\n",
       "      <td>1</td>\n",
       "      <td>1</td>\n",
       "      <td>0</td>\n",
       "      <td>0</td>\n",
       "      <td>0</td>\n",
       "      <td>1</td>\n",
       "      <td>68.0</td>\n",
       "      <td>1.0</td>\n",
       "      <td>1.0</td>\n",
       "      <td>16.0</td>\n",
       "      <td>0.0</td>\n",
       "      <td>18.0</td>\n",
       "    </tr>\n",
       "    <tr>\n",
       "      <th>550</th>\n",
       "      <td>1</td>\n",
       "      <td>0</td>\n",
       "      <td>0</td>\n",
       "      <td>0</td>\n",
       "      <td>0</td>\n",
       "      <td>1</td>\n",
       "      <td>286.0</td>\n",
       "      <td>5.0</td>\n",
       "      <td>26.0</td>\n",
       "      <td>30.0</td>\n",
       "      <td>2.0</td>\n",
       "      <td>78.0</td>\n",
       "    </tr>\n",
       "    <tr>\n",
       "      <th>551</th>\n",
       "      <td>0</td>\n",
       "      <td>0</td>\n",
       "      <td>1</td>\n",
       "      <td>1</td>\n",
       "      <td>0</td>\n",
       "      <td>1</td>\n",
       "      <td>1869.0</td>\n",
       "      <td>49.0</td>\n",
       "      <td>184.0</td>\n",
       "      <td>299.0</td>\n",
       "      <td>40.0</td>\n",
       "      <td>575.0</td>\n",
       "    </tr>\n",
       "    <tr>\n",
       "      <th>552</th>\n",
       "      <td>0</td>\n",
       "      <td>1</td>\n",
       "      <td>1</td>\n",
       "      <td>1</td>\n",
       "      <td>0</td>\n",
       "      <td>1</td>\n",
       "      <td>3106.0</td>\n",
       "      <td>86.0</td>\n",
       "      <td>318.0</td>\n",
       "      <td>736.0</td>\n",
       "      <td>164.0</td>\n",
       "      <td>991.0</td>\n",
       "    </tr>\n",
       "  </tbody>\n",
       "</table>\n",
       "<p>551 rows × 12 columns</p>\n",
       "</div>"
      ],
      "text/plain": [
       "     EPI_T_EN  IMM_S  TS_C  TS_N_EN  VW_T  HF_L1_T  EPI_S_P  EP_S_U1  EP_S_U5  \\\n",
       "0           3      1     5        5     0        0     37.0      0.0      7.0   \n",
       "1           0      1     0        0     0        1    947.0     22.0     36.0   \n",
       "2           1      1     0        0     0        1     89.0      0.0      5.0   \n",
       "3           0      0     0        0     0        1    386.0      3.0      7.0   \n",
       "4           0      0     0        0     0        0    186.0      3.0      9.0   \n",
       "..        ...    ...   ...      ...   ...      ...      ...      ...      ...   \n",
       "548         1      0     0        0     0        1     32.0      0.0      1.0   \n",
       "549         1      1     0        0     0        1     68.0      1.0      1.0   \n",
       "550         1      0     0        0     0        1    286.0      5.0     26.0   \n",
       "551         0      0     1        1     0        1   1869.0     49.0    184.0   \n",
       "552         0      1     1        1     0        1   3106.0     86.0    318.0   \n",
       "\n",
       "     EP_S_U15  EP_S_PW  EP_S_WCBA  \n",
       "0        14.0      2.0       10.0  \n",
       "1       189.0     25.0      255.0  \n",
       "2        25.0      1.0       26.0  \n",
       "3        39.0      3.0       70.0  \n",
       "4        43.0      3.0       66.0  \n",
       "..        ...      ...        ...  \n",
       "548       4.0      0.0       10.0  \n",
       "549      16.0      0.0       18.0  \n",
       "550      30.0      2.0       78.0  \n",
       "551     299.0     40.0      575.0  \n",
       "552     736.0    164.0      991.0  \n",
       "\n",
       "[551 rows x 12 columns]"
      ]
     },
     "execution_count": 9,
     "metadata": {},
     "output_type": "execute_result"
    }
   ],
   "source": [
    "# replacing values\n",
    "df['EPI_T_EN'].replace(['Village', 'Other settlement', 'Ward', 'Workers settlement', 'Ward (p)', 'Army'],\n",
    "                        [0, 1, 2, 3, 4, 5], inplace=True)\n",
    "df['IMM_S'].replace(['O', 'F'], [0, 1], inplace=True)\n",
    "df['TS_C'].replace(['MMR013006', 'MMR013008', 'MMR013038', 'MMR013039', 'MMR013033', 'MMR013005', 'MMR017021'],\n",
    "                  [0, 1, 2, 3, 4, 5, 6], inplace = True)\n",
    "df['TS_N_EN'].replace(['Htantabin', 'Hlaingtharya', 'Kyeemyindaing', 'Sanchaung', 'Kyauktada', 'Taikkyi', '?Nyaungdon'], \n",
    "                     [0, 1, 2, 3, 4, 5, 6], inplace=True)\n",
    "df['VW_T'].replace(['Village Track', 'Ward'], [0, 1], inplace=True)\n",
    "df['HF_L1_T'].replace(['Sub Rural Health Center', 'Rural Health Center', 'Urban Health Center', 'Sub Urban Health Center', 'Station Health Unit', '????????????????????', 'Maternal and Child Health Center']\n",
    "                     , [0, 1, 2, 3, 4, 5, 6], inplace= True)\n",
    "\n",
    "epi_id_idf = df['EPI_ID']\n",
    "df.drop(['EPI_ID'], axis=1, inplace=True)\n",
    "df"
   ]
  },
  {
   "cell_type": "markdown",
   "id": "55409f1a",
   "metadata": {},
   "source": [
    "Above: Dataset without IDs for Clustering\n",
    "\n",
    "Below: Indexes of each ID for future use"
   ]
  },
  {
   "cell_type": "code",
   "execution_count": 10,
   "id": "86328bfa",
   "metadata": {},
   "outputs": [
    {
     "data": {
      "text/plain": [
       "0      EPI00001559\n",
       "1      EPI00001870\n",
       "2      EPI00001871\n",
       "3      EPI00001868\n",
       "4      EPI00001726\n",
       "          ...     \n",
       "548    EPI00001725\n",
       "549    EPI00001865\n",
       "550    EPI00001866\n",
       "551    EPI00003141\n",
       "552    EPI00003120\n",
       "Name: EPI_ID, Length: 551, dtype: object"
      ]
     },
     "execution_count": 10,
     "metadata": {},
     "output_type": "execute_result"
    }
   ],
   "source": [
    "epi_id_idf"
   ]
  },
  {
   "cell_type": "markdown",
   "id": "1cef6ee7",
   "metadata": {},
   "source": [
    "# 2. Model"
   ]
  },
  {
   "cell_type": "markdown",
   "id": "66e049e8",
   "metadata": {},
   "source": [
    "## 2.1 K-Means clustering\n",
    "\n",
    "**a. Finding the right K cluster using Elbow Method**"
   ]
  },
  {
   "cell_type": "code",
   "execution_count": 11,
   "id": "88b5158b",
   "metadata": {},
   "outputs": [],
   "source": [
    "# Initialize a k-means model given a dataset\n",
    "\n",
    "def init_kmeans(X, k):\n",
    "    m = X.shape[0]\n",
    "    n = X.shape[1]\n",
    "    means = np.zeros((k,n))\n",
    "    order = np.random.permutation(m)[:k]\n",
    "    for i in range(k):\n",
    "        means[i,:] = X[order[i],:]\n",
    "    return means\n",
    "\n",
    "# Run one iteration of k-means\n",
    "\n",
    "def iterate_kmeans(X, means):\n",
    "    m = X.shape[0]\n",
    "    n = X.shape[1]\n",
    "    k = means.shape[0]\n",
    "    distortion = np.zeros(m)\n",
    "    c = np.zeros(m)\n",
    "    for i in range(m):\n",
    "        min_j = 0\n",
    "        min_dist = 0\n",
    "        for j in range(k):\n",
    "            dist_j = np.linalg.norm(X[i,:] - means[j,:])\n",
    "            if dist_j < min_dist or j == 0:\n",
    "                min_dist = dist_j\n",
    "                min_j = j\n",
    "        distortion[i] = min_dist\n",
    "        c[i] = min_j\n",
    "    for j in range(k):\n",
    "        means[j,:] = np.zeros((1,n))\n",
    "        nj = 0\n",
    "        for i in range(m):\n",
    "            if c[i] == j:\n",
    "                nj = nj + 1\n",
    "                means[j,:] = means[j,:] + X[i,:]\n",
    "        if nj > 0:\n",
    "            means[j,:] = means[j,:] / nj\n",
    "    return means, c, np.sum(distortion)"
   ]
  },
  {
   "cell_type": "code",
   "execution_count": 12,
   "id": "064a9e4e",
   "metadata": {},
   "outputs": [
    {
     "data": {
      "image/png": "[encoded data removed]",
      "text/plain": [
       "<Figure size 1152x576 with 1 Axes>"
      ]
     },
     "metadata": {
      "needs_background": "light"
     },
     "output_type": "display_data"
    }
   ],
   "source": [
    "# Convert dataframe to matrix\n",
    "\n",
    "X = np.array(df.iloc[:,1:])\n",
    "\n",
    "# Intialize hyperparameters\n",
    "\n",
    "max_k = 20\n",
    "epsilon = 0.001\n",
    "\n",
    "# For each value of k, do one run and record the resulting cost (Euclidean distortion)\n",
    "\n",
    "distortions = np.zeros(max_k)\n",
    "for k in range(1, max_k + 1):\n",
    "    means = init_kmeans(X, k)\n",
    "    prev_distortion = 0\n",
    "    while True:\n",
    "        means, c, distortion = iterate_kmeans(X, means)\n",
    "        if prev_distortion > 0 and prev_distortion - distortion < epsilon:\n",
    "            break\n",
    "        prev_distortion = distortion\n",
    "    distortions[k-1] = distortion\n",
    "\n",
    "# Plot distortion as function of k\n",
    "\n",
    "plt.figure(figsize=(16,8))\n",
    "plt.plot(range(1,max_k+1), distortions, 'bx-')\n",
    "plt.xlabel('k')\n",
    "plt.ylabel('Distortion')\n",
    "plt.title('k-means distortion as a function of k')\n",
    "plt.show()"
   ]
  },
  {
   "cell_type": "markdown",
   "id": "3c925cb0",
   "metadata": {},
   "source": [
    "**b. Silhouette Method**"
   ]
  },
  {
   "cell_type": "code",
   "execution_count": 17,
   "id": "7fd6db0a",
   "metadata": {},
   "outputs": [],
   "source": [
    "from sklearn.metrics import silhouette_score\n",
    "from sklearn.cluster import KMeans\n",
    "\n",
    "sil = []\n",
    "kmax = 10\n",
    "\n",
    "# dissimilarity would not be defined for a single cluster, thus, minimum number of clusters should be 2\n",
    "for k in range(2, kmax+1):\n",
    "    kmeans = KMeans(n_clusters = k).fit(X)\n",
    "    labels = kmeans.labels_\n",
    "    sil.append(silhouette_score(X, labels, metric = 'euclidean'))"
   ]
  },
  {
   "cell_type": "code",
   "execution_count": 19,
   "id": "178cecf7",
   "metadata": {},
   "outputs": [
    {
     "data": {
      "image/png": "[encoded data removed]",
      "text/plain": [
       "<Figure size 432x288 with 1 Axes>"
      ]
     },
     "metadata": {
      "needs_background": "light"
     },
     "output_type": "display_data"
    }
   ],
   "source": [
    "plt.plot(sil)\n",
    "plt.show()"
   ]
  },
  {
   "cell_type": "markdown",
   "id": "bcd238b6",
   "metadata": {},
   "source": [
    "The analysis suggest that 6 is the right number of clusters"
   ]
  },
  {
   "cell_type": "code",
   "execution_count": 32,
   "id": "6384a815",
   "metadata": {},
   "outputs": [],
   "source": [
    "n_clusters = 6"
   ]
  },
  {
   "cell_type": "code",
   "execution_count": 48,
   "id": "ef4f02eb",
   "metadata": {},
   "outputs": [],
   "source": [
    "km = KMeans(\n",
    "    n_clusters=n_clusters, init='random',\n",
    "    n_init=10, max_iter=1000, \n",
    "    tol=1e-04, random_state=0\n",
    ")\n",
    "y_km = km.fit_predict(X)"
   ]
  },
  {
   "cell_type": "code",
   "execution_count": 49,
   "id": "093d364a",
   "metadata": {},
   "outputs": [
    {
     "name": "stdout",
     "output_type": "stream",
     "text": [
      "[5 3 5 5 5 5 5 3 3 4 3 5 5 5 5 5 5 5 5 5 5 3 5 5 5 5 3 5 5 5 5 3 3 3 2 5 3\n",
      " 5 3 5 3 5 3 5 5 5 5 5 5 5 5 5 5 5 5 5 5 3 5 5 5 5 5 3 3 5 5 5 5 5 5 5 5 3\n",
      " 5 5 3 5 5 3 5 5 5 5 5 3 5 3 5 3 5 5 5 3 3 5 5 5 5 5 5 5 3 3 5 3 5 5 5 5 5\n",
      " 5 5 5 5 5 5 2 4 4 3 5 5 5 3 5 5 5 5 5 5 5 5 5 5 5 5 5 5 5 3 5 5 5 5 3 5 3\n",
      " 5 5 5 5 5 5 5 5 5 5 5 5 5 3 5 5 3 3 5 5 3 5 5 5 5 5 5 5 5 5 5 5 3 5 5 5 5\n",
      " 5 5 3 5 5 5 5 5 5 5 3 2 3 2 2 5 5 2 3 5 3 3 2 5 5 2 5 5 5 5 5 5 5 5 2 3 3\n",
      " 5 3 3 5 3 3 5 5 5 5 5 3 5 5 3 5 5 5 5 5 5 5 4 5 5 5 5 5 5 5 3 4 5 5 5 5 5\n",
      " 3 5 3 5 5 5 5 5 5 5 5 5 5 3 5 5 5 5 5 5 5 5 5 1 5 3 5 5 5 3 5 5 5 5 3 3 3\n",
      " 2 3 3 4 5 5 5 5 5 5 5 5 3 5 5 5 5 5 5 5 3 5 5 5 5 5 5 5 5 5 5 5 5 5 5 5 5\n",
      " 5 3 3 5 3 5 5 5 5 5 3 5 5 5 5 5 5 4 3 5 5 5 5 5 5 5 5 5 5 5 5 5 5 5 5 3 5\n",
      " 5 5 3 5 5 5 5 5 5 5 4 5 5 5 2 4 4 4 4 4 4 2 2 2 4 4 4 4 4 4 2 4 4 4 4 3 4\n",
      " 2 2 2 4 4 2 4 4 4 4 4 4 4 4 4 4 4 4 4 3 2 5 1 5 5 4 1 1 1 1 1 5 5 5 1 5 3\n",
      " 1 5 3 3 0 0 3 3 3 5 2 3 5 5 3 4 4 0 5 3 3 3 4 2 4 3 4 3 3 3 4 3 3 3 0 3 5\n",
      " 3 5 5 3 1 4 1 4 3 1 2 5 5 4 1 4 4 4 4 4 4 5 5 5 5 5 5 4 5 5 5 5 5 5 5 5 5\n",
      " 5 5 5 5 5 5 3 3 5 5 5 5 5 5 5 4 5 5 5 5 5 5 5 5 2 3 5 4 5 5 5 3 4]\n"
     ]
    }
   ],
   "source": [
    "print(y_km)"
   ]
  },
  {
   "cell_type": "markdown",
   "id": "d40d5f1e",
   "metadata": {},
   "source": [
    "**Concat ID and class**"
   ]
  },
  {
   "cell_type": "code",
   "execution_count": 50,
   "id": "9feeec3f",
   "metadata": {},
   "outputs": [
    {
     "data": {
      "text/html": [
       "<div>\n",
       "<style scoped>\n",
       "    .dataframe tbody tr th:only-of-type {\n",
       "        vertical-align: middle;\n",
       "    }\n",
       "\n",
       "    .dataframe tbody tr th {\n",
       "        vertical-align: top;\n",
       "    }\n",
       "\n",
       "    .dataframe thead th {\n",
       "        text-align: right;\n",
       "    }\n",
       "</style>\n",
       "<table border=\"1\" class=\"dataframe\">\n",
       "  <thead>\n",
       "    <tr style=\"text-align: right;\">\n",
       "      <th></th>\n",
       "      <th>EPI_ID</th>\n",
       "      <th>CLASS</th>\n",
       "    </tr>\n",
       "  </thead>\n",
       "  <tbody>\n",
       "    <tr>\n",
       "      <th>0</th>\n",
       "      <td>EPI00001559</td>\n",
       "      <td>5</td>\n",
       "    </tr>\n",
       "    <tr>\n",
       "      <th>1</th>\n",
       "      <td>EPI00001870</td>\n",
       "      <td>3</td>\n",
       "    </tr>\n",
       "    <tr>\n",
       "      <th>2</th>\n",
       "      <td>EPI00001871</td>\n",
       "      <td>5</td>\n",
       "    </tr>\n",
       "    <tr>\n",
       "      <th>3</th>\n",
       "      <td>EPI00001868</td>\n",
       "      <td>5</td>\n",
       "    </tr>\n",
       "    <tr>\n",
       "      <th>4</th>\n",
       "      <td>EPI00001726</td>\n",
       "      <td>5</td>\n",
       "    </tr>\n",
       "    <tr>\n",
       "      <th>...</th>\n",
       "      <td>...</td>\n",
       "      <td>...</td>\n",
       "    </tr>\n",
       "    <tr>\n",
       "      <th>548</th>\n",
       "      <td>EPI00001725</td>\n",
       "      <td>5</td>\n",
       "    </tr>\n",
       "    <tr>\n",
       "      <th>549</th>\n",
       "      <td>EPI00001865</td>\n",
       "      <td>5</td>\n",
       "    </tr>\n",
       "    <tr>\n",
       "      <th>550</th>\n",
       "      <td>EPI00001866</td>\n",
       "      <td>5</td>\n",
       "    </tr>\n",
       "    <tr>\n",
       "      <th>551</th>\n",
       "      <td>EPI00003141</td>\n",
       "      <td>3</td>\n",
       "    </tr>\n",
       "    <tr>\n",
       "      <th>552</th>\n",
       "      <td>EPI00003120</td>\n",
       "      <td>4</td>\n",
       "    </tr>\n",
       "  </tbody>\n",
       "</table>\n",
       "<p>551 rows × 2 columns</p>\n",
       "</div>"
      ],
      "text/plain": [
       "          EPI_ID  CLASS\n",
       "0    EPI00001559      5\n",
       "1    EPI00001870      3\n",
       "2    EPI00001871      5\n",
       "3    EPI00001868      5\n",
       "4    EPI00001726      5\n",
       "..           ...    ...\n",
       "548  EPI00001725      5\n",
       "549  EPI00001865      5\n",
       "550  EPI00001866      5\n",
       "551  EPI00003141      3\n",
       "552  EPI00003120      4\n",
       "\n",
       "[551 rows x 2 columns]"
      ]
     },
     "execution_count": 50,
     "metadata": {},
     "output_type": "execute_result"
    }
   ],
   "source": [
    "classification_df = pd.DataFrame({'EPI_ID': epi_id_idf, 'CLASS': y_km})\n",
    "classification_df"
   ]
  },
  {
   "cell_type": "markdown",
   "id": "e5fd13da",
   "metadata": {},
   "source": [
    "**Export to CSV**"
   ]
  },
  {
   "cell_type": "code",
   "execution_count": 57,
   "id": "78f9c040",
   "metadata": {},
   "outputs": [
    {
     "name": "stdout",
     "output_type": "stream",
     "text": [
      "Done\n"
     ]
    }
   ],
   "source": [
    "!mkdir outputs\n",
    "classification_df.to_csv('outputs/classification_results.csv', index=False)\n",
    "print(\"Done\")"
   ]
  },
  {
   "cell_type": "markdown",
   "id": "da55053e",
   "metadata": {},
   "source": [
    "## 2.2 Gaussian Mixture Model"
   ]
  },
  {
   "cell_type": "markdown",
   "id": "48120fb5",
   "metadata": {},
   "source": [
    "## 2.3 SVM"
   ]
  },
  {
   "cell_type": "markdown",
   "id": "502143de",
   "metadata": {},
   "source": [
    "# 3 Summary of results"
   ]
  },
  {
   "cell_type": "code",
   "execution_count": 31,
   "id": "598f1b42",
   "metadata": {},
   "outputs": [],
   "source": [
    "def get_summary(target, col_names):\n",
    "    \n",
    "    '''\n",
    "    Get summary of data for each class\n",
    "    For continuous values\n",
    "    - Min and Max\n",
    "    - Median\n",
    "    - Mean\n",
    "    For discrete values\n",
    "    - Most frequent category for that class\n",
    "    - Least one\n",
    "    - Distribution with plotting\n",
    "    '''\n",
    "    # 1. Drop other classes and create new dataframe\n",
    "    \n",
    "    # 2. Find mean, median, max and min for continuous values\n",
    "    \n",
    "    # 3. Find most frequent category for that class and the least one\n",
    "    \n",
    "    # 4. Plot distribution\n",
    "    \n",
    "    return\n",
    "    \n",
    "    \n",
    "    \n",
    "    \n",
    "    \n",
    "    "
   ]
  },
  {
   "cell_type": "code",
   "execution_count": 54,
   "id": "808e237a",
   "metadata": {},
   "outputs": [],
   "source": [
    "col_names = ['EPI_T_EN', 'IMM_S', 'TS_C', 'TS_N_EN', 'VW_T', 'HF_L1_T',\n",
    "'EPI_S_P', 'EP_S_U1', 'EP_S_U5', 'EP_S_U15', 'EP_S_PW', 'EP_S_WCBA']"
   ]
  },
  {
   "cell_type": "code",
   "execution_count": 55,
   "id": "b93c47fc",
   "metadata": {},
   "outputs": [
    {
     "name": "stdout",
     "output_type": "stream",
     "text": [
      "==================== Data summary for class 0 ====================\n",
      "==================== Data summary for class 1 ====================\n",
      "==================== Data summary for class 2 ====================\n",
      "==================== Data summary for class 3 ====================\n",
      "==================== Data summary for class 4 ====================\n",
      "==================== Data summary for class 5 ====================\n"
     ]
    }
   ],
   "source": [
    "for k in range(n_clusters):\n",
    "    print(f\"==================== Data summary for class {k} ====================\")\n",
    "    values = get_summary(k, col_names)\n",
    "    "
   ]
  }
 ],
 "metadata": {
  "kernelspec": {
   "display_name": "Python 3 (ipykernel)",
   "language": "python",
   "name": "python3"
  },
  "language_info": {
   "codemirror_mode": {
    "name": "ipython",
    "version": 3
   },
   "file_extension": ".py",
   "mimetype": "text/x-python",
   "name": "python",
   "nbconvert_exporter": "python",
   "pygments_lexer": "ipython3",
   "version": "3.9.7"
  }
 },
 "nbformat": 4,
 "nbformat_minor": 5
}
