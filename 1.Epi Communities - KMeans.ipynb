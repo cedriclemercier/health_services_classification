{
 "cells": [
  {
   "cell_type": "markdown",
   "id": "00fc323f",
   "metadata": {},
   "source": [
    "# Clustering Epi Communities\n",
    "\n",
    "In this notebook we'll attempt to cluster classify the different epi communities"
   ]
  },
  {
   "cell_type": "markdown",
   "id": "4835ad03",
   "metadata": {},
   "source": [
    "#### Go to [model](#model)\n",
    "#### Go to [feature selection](#feature) | [feature selection 2](#feature2)"
   ]
  },
  {
   "cell_type": "markdown",
   "id": "15eada4b",
   "metadata": {},
   "source": [
    "# 1. Load data and Exploration"
   ]
  },
  {
   "cell_type": "code",
   "execution_count": 1,
   "id": "74cb7626",
   "metadata": {},
   "outputs": [],
   "source": [
    "import pandas as pd\n",
    "import numpy as np\n",
    "import seaborn as sns\n",
    "import matplotlib.pyplot as plt\n",
    "import os\n",
    "\n",
    "from sklearn.preprocessing import StandardScaler\n",
    "import seaborn as sns\n",
    "from sklearn.cluster import KMeans\n",
    "from sklearn.metrics import silhouette_score\n",
    "from yellowbrick.cluster import SilhouetteVisualizer\n",
    "from yellowbrick.cluster import KElbowVisualizer"
   ]
  },
  {
   "cell_type": "code",
   "execution_count": 2,
   "id": "339ed1a8",
   "metadata": {},
   "outputs": [],
   "source": [
    "def save(df, name, ids, output_dir='outputs/'):\n",
    "    '''\n",
    "    - df = TARGETS\n",
    "    - name = name of file\n",
    "    - ids = dataframe containing ids\n",
    "    - output_dir = default: outputs/\n",
    "    '''\n",
    "    location = os.path.join(output_dir, name)\n",
    "    df_to_save = pd.DataFrame({'EPI_ID': ids, 'CLASS': df})\n",
    "    df_to_save.to_csv(location, index=False)\n",
    "    print(f'Saved @ {location}')"
   ]
  },
  {
   "cell_type": "code",
   "execution_count": 3,
   "id": "510de3b1",
   "metadata": {
    "scrolled": true
   },
   "outputs": [
    {
     "data": {
      "text/html": [
       "<div>\n",
       "<style scoped>\n",
       "    .dataframe tbody tr th:only-of-type {\n",
       "        vertical-align: middle;\n",
       "    }\n",
       "\n",
       "    .dataframe tbody tr th {\n",
       "        vertical-align: top;\n",
       "    }\n",
       "\n",
       "    .dataframe thead th {\n",
       "        text-align: right;\n",
       "    }\n",
       "</style>\n",
       "<table border=\"1\" class=\"dataframe\">\n",
       "  <thead>\n",
       "    <tr style=\"text-align: right;\">\n",
       "      <th></th>\n",
       "      <th>EPI_ID</th>\n",
       "      <th>EPI_T_EN</th>\n",
       "      <th>IMM_S</th>\n",
       "      <th>TS_C</th>\n",
       "      <th>TS_N_EN</th>\n",
       "      <th>CT_C</th>\n",
       "      <th>CT_N_MM</th>\n",
       "      <th>VW_C</th>\n",
       "      <th>VW_T</th>\n",
       "      <th>VI_C</th>\n",
       "      <th>HF_L1_C</th>\n",
       "      <th>HF_L1_T</th>\n",
       "      <th>EPI_S_P</th>\n",
       "      <th>EP_S_U1</th>\n",
       "      <th>EP_S_U5</th>\n",
       "      <th>EP_S_U15</th>\n",
       "      <th>EP_S_PW</th>\n",
       "      <th>EP_S_WCBA</th>\n",
       "    </tr>\n",
       "  </thead>\n",
       "  <tbody>\n",
       "    <tr>\n",
       "      <th>0</th>\n",
       "      <td>EPI00001559</td>\n",
       "      <td>Workers settlement</td>\n",
       "      <td>F</td>\n",
       "      <td>MMR013005</td>\n",
       "      <td>Taikkyi</td>\n",
       "      <td>NaN</td>\n",
       "      <td>NaN</td>\n",
       "      <td>MMR013005067</td>\n",
       "      <td>Village Track</td>\n",
       "      <td>150060</td>\n",
       "      <td>HF008182</td>\n",
       "      <td>Sub Rural Health Center</td>\n",
       "      <td>37.0</td>\n",
       "      <td>0.0</td>\n",
       "      <td>7.0</td>\n",
       "      <td>14.0</td>\n",
       "      <td>2.0</td>\n",
       "      <td>10.0</td>\n",
       "    </tr>\n",
       "    <tr>\n",
       "      <th>1</th>\n",
       "      <td>EPI00001870</td>\n",
       "      <td>Village</td>\n",
       "      <td>F</td>\n",
       "      <td>MMR013006</td>\n",
       "      <td>Htantabin</td>\n",
       "      <td>NaN</td>\n",
       "      <td>NaN</td>\n",
       "      <td>MMR013006048</td>\n",
       "      <td>Village Track</td>\n",
       "      <td>150167</td>\n",
       "      <td>HF008162</td>\n",
       "      <td>Rural Health Center</td>\n",
       "      <td>947.0</td>\n",
       "      <td>22.0</td>\n",
       "      <td>36.0</td>\n",
       "      <td>189.0</td>\n",
       "      <td>25.0</td>\n",
       "      <td>255.0</td>\n",
       "    </tr>\n",
       "    <tr>\n",
       "      <th>2</th>\n",
       "      <td>EPI00001871</td>\n",
       "      <td>Other settlement</td>\n",
       "      <td>F</td>\n",
       "      <td>MMR013006</td>\n",
       "      <td>Htantabin</td>\n",
       "      <td>NaN</td>\n",
       "      <td>NaN</td>\n",
       "      <td>MMR013006048</td>\n",
       "      <td>Village Track</td>\n",
       "      <td>150167</td>\n",
       "      <td>HF008162</td>\n",
       "      <td>Rural Health Center</td>\n",
       "      <td>89.0</td>\n",
       "      <td>0.0</td>\n",
       "      <td>5.0</td>\n",
       "      <td>25.0</td>\n",
       "      <td>1.0</td>\n",
       "      <td>26.0</td>\n",
       "    </tr>\n",
       "  </tbody>\n",
       "</table>\n",
       "</div>"
      ],
      "text/plain": [
       "        EPI_ID            EPI_T_EN IMM_S       TS_C    TS_N_EN CT_C CT_N_MM  \\\n",
       "0  EPI00001559  Workers settlement     F  MMR013005    Taikkyi  NaN     NaN   \n",
       "1  EPI00001870             Village     F  MMR013006  Htantabin  NaN     NaN   \n",
       "2  EPI00001871    Other settlement     F  MMR013006  Htantabin  NaN     NaN   \n",
       "\n",
       "           VW_C           VW_T    VI_C   HF_L1_C                  HF_L1_T  \\\n",
       "0  MMR013005067  Village Track  150060  HF008182  Sub Rural Health Center   \n",
       "1  MMR013006048  Village Track  150167  HF008162      Rural Health Center   \n",
       "2  MMR013006048  Village Track  150167  HF008162      Rural Health Center   \n",
       "\n",
       "   EPI_S_P  EP_S_U1  EP_S_U5  EP_S_U15  EP_S_PW  EP_S_WCBA  \n",
       "0     37.0      0.0      7.0      14.0      2.0       10.0  \n",
       "1    947.0     22.0     36.0     189.0     25.0      255.0  \n",
       "2     89.0      0.0      5.0      25.0      1.0       26.0  "
      ]
     },
     "execution_count": 3,
     "metadata": {},
     "output_type": "execute_result"
    }
   ],
   "source": [
    "# Import the data\n",
    "\n",
    "raw_df = pd.read_csv('datasets/epi_communities - epi_communities.csv')\n",
    "raw_df[:3]"
   ]
  },
  {
   "cell_type": "code",
   "execution_count": 4,
   "id": "4e5ff6b4",
   "metadata": {},
   "outputs": [
    {
     "data": {
      "text/plain": [
       "553"
      ]
     },
     "execution_count": 4,
     "metadata": {},
     "output_type": "execute_result"
    }
   ],
   "source": [
    "len(raw_df)"
   ]
  },
  {
   "cell_type": "code",
   "execution_count": 5,
   "id": "44824c9c",
   "metadata": {},
   "outputs": [
    {
     "data": {
      "text/plain": [
       "EPI_ID         0\n",
       "EPI_T_EN       0\n",
       "IMM_S          1\n",
       "TS_C           0\n",
       "TS_N_EN        0\n",
       "CT_C         435\n",
       "CT_N_MM      435\n",
       "VW_C           0\n",
       "VW_T           0\n",
       "VI_C         119\n",
       "HF_L1_C        0\n",
       "HF_L1_T        0\n",
       "EPI_S_P        1\n",
       "EP_S_U1        1\n",
       "EP_S_U5        1\n",
       "EP_S_U15       1\n",
       "EP_S_PW        1\n",
       "EP_S_WCBA      1\n",
       "dtype: int64"
      ]
     },
     "execution_count": 5,
     "metadata": {},
     "output_type": "execute_result"
    }
   ],
   "source": [
    "raw_df.isnull().sum()"
   ]
  },
  {
   "cell_type": "code",
   "execution_count": 6,
   "id": "dab5a1a0",
   "metadata": {},
   "outputs": [
    {
     "data": {
      "text/plain": [
       "MMR013008701    56\n",
       "MMR013038701    29\n",
       "MMR013039701    18\n",
       "MMR013033701     9\n",
       "MMR013006701     6\n",
       "Name: CT_C, dtype: int64"
      ]
     },
     "execution_count": 6,
     "metadata": {},
     "output_type": "execute_result"
    }
   ],
   "source": [
    "raw_df['CT_C'].value_counts()"
   ]
  },
  {
   "cell_type": "code",
   "execution_count": 7,
   "id": "847d14b5",
   "metadata": {},
   "outputs": [
    {
     "data": {
      "text/plain": [
       "Village               271\n",
       "Other settlement      138\n",
       "Ward                   73\n",
       "Workers settlement     59\n",
       "Ward (p)               11\n",
       "Army                    1\n",
       "Name: EPI_T_EN, dtype: int64"
      ]
     },
     "execution_count": 7,
     "metadata": {},
     "output_type": "execute_result"
    }
   ],
   "source": [
    "raw_df[\"EPI_T_EN\"].value_counts()"
   ]
  },
  {
   "cell_type": "markdown",
   "id": "c8164b83",
   "metadata": {},
   "source": [
    "## 1.1 Data Cleaning"
   ]
  },
  {
   "cell_type": "markdown",
   "id": "464a696c",
   "metadata": {},
   "source": [
    "A lot of null values for `CT_C` and `CT_N_MM`, let's remove them.\n",
    "Lengthy classes with numerous null or unknown data `VI_C`, lengthy `VW_C`, `HF_L1_C`\n",
    "For now let's keep the IDS to be used later `EPI_ID`\n",
    "\n",
    "**Important points**\n",
    "- `HF_L1_T` has a lot of null vales in the following form: `?????????????`"
   ]
  },
  {
   "cell_type": "code",
   "execution_count": 8,
   "id": "98f0563d",
   "metadata": {},
   "outputs": [
    {
     "data": {
      "text/plain": [
       "EPI_ID       0\n",
       "EPI_T_EN     0\n",
       "IMM_S        1\n",
       "TS_C         0\n",
       "TS_N_EN      0\n",
       "VW_T         0\n",
       "HF_L1_T      0\n",
       "EPI_S_P      1\n",
       "EP_S_U1      1\n",
       "EP_S_U5      1\n",
       "EP_S_U15     1\n",
       "EP_S_PW      1\n",
       "EP_S_WCBA    1\n",
       "dtype: int64"
      ]
     },
     "execution_count": 8,
     "metadata": {},
     "output_type": "execute_result"
    }
   ],
   "source": [
    "col_df = raw_df.drop(['CT_C', 'CT_N_MM', 'VW_C', 'VI_C', 'HF_L1_C'], axis=1)\n",
    "col_df.isnull().sum()"
   ]
  },
  {
   "cell_type": "markdown",
   "id": "fbd6b55a",
   "metadata": {},
   "source": [
    "### a. Replace null values"
   ]
  },
  {
   "cell_type": "markdown",
   "id": "1ee9f29c",
   "metadata": {},
   "source": [
    "IMM_S has NaN value on row 55, and row 211 is missing all EP_S.. values"
   ]
  },
  {
   "cell_type": "code",
   "execution_count": 9,
   "id": "b23adce0",
   "metadata": {},
   "outputs": [],
   "source": [
    "df = col_df.drop([55, 211], axis=0)"
   ]
  },
  {
   "cell_type": "code",
   "execution_count": 10,
   "id": "691f7197",
   "metadata": {},
   "outputs": [
    {
     "data": {
      "text/plain": [
       "EPI_ID       0\n",
       "EPI_T_EN     0\n",
       "IMM_S        0\n",
       "TS_C         0\n",
       "TS_N_EN      0\n",
       "VW_T         0\n",
       "HF_L1_T      0\n",
       "EPI_S_P      0\n",
       "EP_S_U1      0\n",
       "EP_S_U5      0\n",
       "EP_S_U15     0\n",
       "EP_S_PW      0\n",
       "EP_S_WCBA    0\n",
       "dtype: int64"
      ]
     },
     "execution_count": 10,
     "metadata": {},
     "output_type": "execute_result"
    }
   ],
   "source": [
    "nul = pd.isnull(df['EPI_S_P'])\n",
    "df.isnull().sum()"
   ]
  },
  {
   "cell_type": "markdown",
   "id": "6f2c4c97",
   "metadata": {},
   "source": [
    "**Replace `HF_L1_T` '???????' with an appropriate value or delete**\n",
    "Because it represents only 9 rows on 552, we could delete it. In this case we decide to represent it with a categorical value instead."
   ]
  },
  {
   "cell_type": "code",
   "execution_count": 11,
   "id": "051bf3fa",
   "metadata": {},
   "outputs": [
    {
     "data": {
      "text/plain": [
       "Sub Rural Health Center             374\n",
       "Rural Health Center                  71\n",
       "Urban Health Center                  43\n",
       "Sub Urban Health Center              36\n",
       "Station Health Unit                  12\n",
       "????????????????????                  9\n",
       "Maternal and Child Health Center      6\n",
       "Name: HF_L1_T, dtype: int64"
      ]
     },
     "execution_count": 11,
     "metadata": {},
     "output_type": "execute_result"
    }
   ],
   "source": [
    "df['HF_L1_T'].value_counts()"
   ]
  },
  {
   "cell_type": "markdown",
   "id": "804e2902",
   "metadata": {},
   "source": [
    "### b. Transform data to binary or multi class"
   ]
  },
  {
   "cell_type": "code",
   "execution_count": 12,
   "id": "cf8d4492",
   "metadata": {},
   "outputs": [],
   "source": [
    "# Lets keep the raw DF for summary purposes\n",
    "raw_df_truncated = df.copy()"
   ]
  },
  {
   "cell_type": "code",
   "execution_count": 13,
   "id": "f6f3d82d",
   "metadata": {},
   "outputs": [
    {
     "data": {
      "text/html": [
       "<div>\n",
       "<style scoped>\n",
       "    .dataframe tbody tr th:only-of-type {\n",
       "        vertical-align: middle;\n",
       "    }\n",
       "\n",
       "    .dataframe tbody tr th {\n",
       "        vertical-align: top;\n",
       "    }\n",
       "\n",
       "    .dataframe thead th {\n",
       "        text-align: right;\n",
       "    }\n",
       "</style>\n",
       "<table border=\"1\" class=\"dataframe\">\n",
       "  <thead>\n",
       "    <tr style=\"text-align: right;\">\n",
       "      <th></th>\n",
       "      <th>EPI_T_EN</th>\n",
       "      <th>IMM_S</th>\n",
       "      <th>TS_C</th>\n",
       "      <th>TS_N_EN</th>\n",
       "      <th>VW_T</th>\n",
       "      <th>HF_L1_T</th>\n",
       "      <th>EPI_S_P</th>\n",
       "      <th>EP_S_U1</th>\n",
       "      <th>EP_S_U5</th>\n",
       "      <th>EP_S_U15</th>\n",
       "      <th>EP_S_PW</th>\n",
       "      <th>EP_S_WCBA</th>\n",
       "    </tr>\n",
       "  </thead>\n",
       "  <tbody>\n",
       "    <tr>\n",
       "      <th>0</th>\n",
       "      <td>3</td>\n",
       "      <td>1</td>\n",
       "      <td>5</td>\n",
       "      <td>5</td>\n",
       "      <td>0</td>\n",
       "      <td>0</td>\n",
       "      <td>37.0</td>\n",
       "      <td>0.0</td>\n",
       "      <td>7.0</td>\n",
       "      <td>14.0</td>\n",
       "      <td>2.0</td>\n",
       "      <td>10.0</td>\n",
       "    </tr>\n",
       "    <tr>\n",
       "      <th>1</th>\n",
       "      <td>0</td>\n",
       "      <td>1</td>\n",
       "      <td>0</td>\n",
       "      <td>0</td>\n",
       "      <td>0</td>\n",
       "      <td>1</td>\n",
       "      <td>947.0</td>\n",
       "      <td>22.0</td>\n",
       "      <td>36.0</td>\n",
       "      <td>189.0</td>\n",
       "      <td>25.0</td>\n",
       "      <td>255.0</td>\n",
       "    </tr>\n",
       "    <tr>\n",
       "      <th>2</th>\n",
       "      <td>1</td>\n",
       "      <td>1</td>\n",
       "      <td>0</td>\n",
       "      <td>0</td>\n",
       "      <td>0</td>\n",
       "      <td>1</td>\n",
       "      <td>89.0</td>\n",
       "      <td>0.0</td>\n",
       "      <td>5.0</td>\n",
       "      <td>25.0</td>\n",
       "      <td>1.0</td>\n",
       "      <td>26.0</td>\n",
       "    </tr>\n",
       "    <tr>\n",
       "      <th>3</th>\n",
       "      <td>0</td>\n",
       "      <td>0</td>\n",
       "      <td>0</td>\n",
       "      <td>0</td>\n",
       "      <td>0</td>\n",
       "      <td>1</td>\n",
       "      <td>386.0</td>\n",
       "      <td>3.0</td>\n",
       "      <td>7.0</td>\n",
       "      <td>39.0</td>\n",
       "      <td>3.0</td>\n",
       "      <td>70.0</td>\n",
       "    </tr>\n",
       "    <tr>\n",
       "      <th>4</th>\n",
       "      <td>0</td>\n",
       "      <td>0</td>\n",
       "      <td>0</td>\n",
       "      <td>0</td>\n",
       "      <td>0</td>\n",
       "      <td>0</td>\n",
       "      <td>186.0</td>\n",
       "      <td>3.0</td>\n",
       "      <td>9.0</td>\n",
       "      <td>43.0</td>\n",
       "      <td>3.0</td>\n",
       "      <td>66.0</td>\n",
       "    </tr>\n",
       "    <tr>\n",
       "      <th>...</th>\n",
       "      <td>...</td>\n",
       "      <td>...</td>\n",
       "      <td>...</td>\n",
       "      <td>...</td>\n",
       "      <td>...</td>\n",
       "      <td>...</td>\n",
       "      <td>...</td>\n",
       "      <td>...</td>\n",
       "      <td>...</td>\n",
       "      <td>...</td>\n",
       "      <td>...</td>\n",
       "      <td>...</td>\n",
       "    </tr>\n",
       "    <tr>\n",
       "      <th>548</th>\n",
       "      <td>1</td>\n",
       "      <td>0</td>\n",
       "      <td>0</td>\n",
       "      <td>0</td>\n",
       "      <td>0</td>\n",
       "      <td>1</td>\n",
       "      <td>32.0</td>\n",
       "      <td>0.0</td>\n",
       "      <td>1.0</td>\n",
       "      <td>4.0</td>\n",
       "      <td>0.0</td>\n",
       "      <td>10.0</td>\n",
       "    </tr>\n",
       "    <tr>\n",
       "      <th>549</th>\n",
       "      <td>1</td>\n",
       "      <td>1</td>\n",
       "      <td>0</td>\n",
       "      <td>0</td>\n",
       "      <td>0</td>\n",
       "      <td>1</td>\n",
       "      <td>68.0</td>\n",
       "      <td>1.0</td>\n",
       "      <td>1.0</td>\n",
       "      <td>16.0</td>\n",
       "      <td>0.0</td>\n",
       "      <td>18.0</td>\n",
       "    </tr>\n",
       "    <tr>\n",
       "      <th>550</th>\n",
       "      <td>1</td>\n",
       "      <td>0</td>\n",
       "      <td>0</td>\n",
       "      <td>0</td>\n",
       "      <td>0</td>\n",
       "      <td>1</td>\n",
       "      <td>286.0</td>\n",
       "      <td>5.0</td>\n",
       "      <td>26.0</td>\n",
       "      <td>30.0</td>\n",
       "      <td>2.0</td>\n",
       "      <td>78.0</td>\n",
       "    </tr>\n",
       "    <tr>\n",
       "      <th>551</th>\n",
       "      <td>0</td>\n",
       "      <td>0</td>\n",
       "      <td>1</td>\n",
       "      <td>1</td>\n",
       "      <td>0</td>\n",
       "      <td>1</td>\n",
       "      <td>1869.0</td>\n",
       "      <td>49.0</td>\n",
       "      <td>184.0</td>\n",
       "      <td>299.0</td>\n",
       "      <td>40.0</td>\n",
       "      <td>575.0</td>\n",
       "    </tr>\n",
       "    <tr>\n",
       "      <th>552</th>\n",
       "      <td>0</td>\n",
       "      <td>1</td>\n",
       "      <td>1</td>\n",
       "      <td>1</td>\n",
       "      <td>0</td>\n",
       "      <td>1</td>\n",
       "      <td>3106.0</td>\n",
       "      <td>86.0</td>\n",
       "      <td>318.0</td>\n",
       "      <td>736.0</td>\n",
       "      <td>164.0</td>\n",
       "      <td>991.0</td>\n",
       "    </tr>\n",
       "  </tbody>\n",
       "</table>\n",
       "<p>551 rows × 12 columns</p>\n",
       "</div>"
      ],
      "text/plain": [
       "     EPI_T_EN  IMM_S  TS_C  TS_N_EN  VW_T  HF_L1_T  EPI_S_P  EP_S_U1  EP_S_U5  \\\n",
       "0           3      1     5        5     0        0     37.0      0.0      7.0   \n",
       "1           0      1     0        0     0        1    947.0     22.0     36.0   \n",
       "2           1      1     0        0     0        1     89.0      0.0      5.0   \n",
       "3           0      0     0        0     0        1    386.0      3.0      7.0   \n",
       "4           0      0     0        0     0        0    186.0      3.0      9.0   \n",
       "..        ...    ...   ...      ...   ...      ...      ...      ...      ...   \n",
       "548         1      0     0        0     0        1     32.0      0.0      1.0   \n",
       "549         1      1     0        0     0        1     68.0      1.0      1.0   \n",
       "550         1      0     0        0     0        1    286.0      5.0     26.0   \n",
       "551         0      0     1        1     0        1   1869.0     49.0    184.0   \n",
       "552         0      1     1        1     0        1   3106.0     86.0    318.0   \n",
       "\n",
       "     EP_S_U15  EP_S_PW  EP_S_WCBA  \n",
       "0        14.0      2.0       10.0  \n",
       "1       189.0     25.0      255.0  \n",
       "2        25.0      1.0       26.0  \n",
       "3        39.0      3.0       70.0  \n",
       "4        43.0      3.0       66.0  \n",
       "..        ...      ...        ...  \n",
       "548       4.0      0.0       10.0  \n",
       "549      16.0      0.0       18.0  \n",
       "550      30.0      2.0       78.0  \n",
       "551     299.0     40.0      575.0  \n",
       "552     736.0    164.0      991.0  \n",
       "\n",
       "[551 rows x 12 columns]"
      ]
     },
     "execution_count": 13,
     "metadata": {},
     "output_type": "execute_result"
    }
   ],
   "source": [
    "# replacing values\n",
    "df['EPI_T_EN'].replace(['Village', 'Other settlement', 'Ward', 'Workers settlement', 'Ward (p)', 'Army'],\n",
    "                        [0, 1, 2, 3, 4, 5], inplace=True)\n",
    "df['IMM_S'].replace(['O', 'F'], [0, 1], inplace=True)\n",
    "df['TS_C'].replace(['MMR013006', 'MMR013008', 'MMR013038', 'MMR013039', 'MMR013033', 'MMR013005', 'MMR017021'],\n",
    "                  [0, 1, 2, 3, 4, 5, 6], inplace = True)\n",
    "df['TS_N_EN'].replace(['Htantabin', 'Hlaingtharya', 'Kyeemyindaing', 'Sanchaung', 'Kyauktada', 'Taikkyi', '?Nyaungdon'], \n",
    "                     [0, 1, 2, 3, 4, 5, 6], inplace=True)\n",
    "df['VW_T'].replace(['Village Track', 'Ward'], [0, 1], inplace=True)\n",
    "df['HF_L1_T'].replace(['Sub Rural Health Center', 'Rural Health Center', 'Urban Health Center', 'Sub Urban Health Center', 'Station Health Unit', '????????????????????', 'Maternal and Child Health Center']\n",
    "                     , [0, 1, 2, 3, 4, 5, 6], inplace= True)\n",
    "\n",
    "epi_id_idf = df['EPI_ID']\n",
    "df.drop(['EPI_ID'], axis=1, inplace=True)\n",
    "df"
   ]
  },
  {
   "cell_type": "markdown",
   "id": "55409f1a",
   "metadata": {},
   "source": [
    "Dataset without IDs for Clustering \n",
    "- `df`\n",
    "\n",
    "Below: Indexes of each ID for future use \n",
    "- `epi_id_idf`"
   ]
  },
  {
   "cell_type": "markdown",
   "id": "1cef6ee7",
   "metadata": {},
   "source": [
    "<a id=\"model\"></a>\n",
    "\n",
    "# 2. Model"
   ]
  },
  {
   "cell_type": "markdown",
   "id": "66e049e8",
   "metadata": {},
   "source": [
    "## 2.1 K-Means clustering\n",
    "\n",
    "**a. Finding the right K cluster using Elbow Method**"
   ]
  },
  {
   "cell_type": "code",
   "execution_count": 14,
   "id": "88b5158b",
   "metadata": {},
   "outputs": [],
   "source": [
    "# Initialize a k-means model given a dataset\n",
    "\n",
    "def init_kmeans(X, k):\n",
    "    m = X.shape[0]\n",
    "    n = X.shape[1]\n",
    "    means = np.zeros((k,n))\n",
    "    order = np.random.permutation(m)[:k]\n",
    "    for i in range(k):\n",
    "        means[i,:] = X[order[i],:]\n",
    "    return means\n",
    "\n",
    "# Run one iteration of k-means\n",
    "\n",
    "def iterate_kmeans(X, means):\n",
    "    m = X.shape[0]\n",
    "    n = X.shape[1]\n",
    "    k = means.shape[0]\n",
    "    distortion = np.zeros(m)\n",
    "    c = np.zeros(m)\n",
    "    for i in range(m):\n",
    "        min_j = 0\n",
    "        min_dist = 0\n",
    "        for j in range(k):\n",
    "            dist_j = np.linalg.norm(X[i,:] - means[j,:])\n",
    "            if dist_j < min_dist or j == 0:\n",
    "                min_dist = dist_j\n",
    "                min_j = j\n",
    "        distortion[i] = min_dist\n",
    "        c[i] = min_j\n",
    "    for j in range(k):\n",
    "        means[j,:] = np.zeros((1,n))\n",
    "        nj = 0\n",
    "        for i in range(m):\n",
    "            if c[i] == j:\n",
    "                nj = nj + 1\n",
    "                means[j,:] = means[j,:] + X[i,:]\n",
    "        if nj > 0:\n",
    "            means[j,:] = means[j,:] / nj\n",
    "    return means, c, np.sum(distortion)"
   ]
  },
  {
   "cell_type": "code",
   "execution_count": 15,
   "id": "064a9e4e",
   "metadata": {},
   "outputs": [
    {
     "data": {
      "image/png": "[encoded data removed]",
      "text/plain": [
       "<Figure size 1152x576 with 1 Axes>"
      ]
     },
     "metadata": {},
     "output_type": "display_data"
    }
   ],
   "source": [
    "# Convert dataframe to matrix\n",
    "\n",
    "X = np.array(df.iloc[:,1:])\n",
    "\n",
    "# Intialize hyperparameters\n",
    "\n",
    "max_k = 20\n",
    "epsilon = 0.001\n",
    "\n",
    "# For each value of k, do one run and record the resulting cost (Euclidean distortion)\n",
    "\n",
    "distortions = np.zeros(max_k)\n",
    "for k in range(1, max_k + 1):\n",
    "    means = init_kmeans(X, k)\n",
    "    prev_distortion = 0\n",
    "    while True:\n",
    "        means, c, distortion = iterate_kmeans(X, means)\n",
    "        if prev_distortion > 0 and prev_distortion - distortion < epsilon:\n",
    "            break\n",
    "        prev_distortion = distortion\n",
    "    distortions[k-1] = distortion\n",
    "\n",
    "# Plot distortion as function of k\n",
    "\n",
    "plt.figure(figsize=(16,8))\n",
    "plt.plot(range(1,max_k+1), distortions, 'bx-')\n",
    "plt.xlabel('k')\n",
    "plt.ylabel('Distortion')\n",
    "plt.title('k-means distortion as a function of k')\n",
    "plt.show()"
   ]
  },
  {
   "cell_type": "markdown",
   "id": "3c925cb0",
   "metadata": {},
   "source": [
    "**b. Silhouette Method**"
   ]
  },
  {
   "cell_type": "code",
   "execution_count": 16,
   "id": "7fd6db0a",
   "metadata": {},
   "outputs": [],
   "source": [
    "from sklearn.metrics import silhouette_score\n",
    "from sklearn.cluster import KMeans\n",
    "\n",
    "sil = []\n",
    "kmax = 10\n",
    "\n",
    "# dissimilarity would not be defined for a single cluster, thus, minimum number of clusters should be 2\n",
    "for k in range(2, kmax+1):\n",
    "    kmeans = KMeans(n_clusters = k).fit(X)\n",
    "    labels = kmeans.labels_\n",
    "    sil.append(silhouette_score(X, labels, metric = 'euclidean'))"
   ]
  },
  {
   "cell_type": "code",
   "execution_count": 17,
   "id": "178cecf7",
   "metadata": {},
   "outputs": [
    {
     "data": {
      "image/png": "[encoded data removed]",
      "text/plain": [
       "<Figure size 576x396 with 1 Axes>"
      ]
     },
     "metadata": {},
     "output_type": "display_data"
    }
   ],
   "source": [
    "plt.plot(sil)\n",
    "plt.show()"
   ]
  },
  {
   "cell_type": "markdown",
   "id": "bcd238b6",
   "metadata": {},
   "source": [
    "The analysis suggest that 6 is the right number of clusters"
   ]
  },
  {
   "cell_type": "code",
   "execution_count": 18,
   "id": "6384a815",
   "metadata": {},
   "outputs": [],
   "source": [
    "n_clusters = 5"
   ]
  },
  {
   "cell_type": "code",
   "execution_count": 19,
   "id": "ef4f02eb",
   "metadata": {},
   "outputs": [],
   "source": [
    "km = KMeans(\n",
    "    n_clusters=n_clusters, init='random',\n",
    "    n_init=10, max_iter=1000, \n",
    "    tol=1e-04, random_state=0\n",
    ")\n",
    "y_km = km.fit_predict(X)"
   ]
  },
  {
   "cell_type": "code",
   "execution_count": 20,
   "id": "093d364a",
   "metadata": {},
   "outputs": [
    {
     "name": "stdout",
     "output_type": "stream",
     "text": [
      "[3 3 3 3 3 3 3 3 3 4 4 3 3 3 3 3 3 3 3 3 3 3 3 3 3 3 3 3 3 3 3 3 3 3 2 3 3\n",
      " 3 3 3 3 3 3 3 3 3 3 3 3 3 3 3 3 3 3 3 3 3 3 3 3 3 3 3 3 3 3 3 3 3 3 3 3 3\n",
      " 3 3 3 3 3 3 3 3 3 3 3 3 3 3 3 3 3 3 3 3 3 3 3 3 3 3 3 3 3 3 3 3 3 3 3 3 3\n",
      " 3 3 3 3 3 3 2 4 4 3 3 3 3 3 3 3 3 3 3 3 3 3 3 3 3 3 3 3 3 3 3 3 3 3 3 3 3\n",
      " 3 3 3 3 3 3 3 3 3 3 3 3 3 3 3 3 3 3 3 3 3 3 3 3 3 3 3 3 3 3 3 3 3 3 3 3 3\n",
      " 3 3 4 3 3 3 3 3 3 3 3 2 3 2 2 3 3 2 3 3 3 3 2 3 3 2 3 3 3 3 3 3 3 3 2 3 3\n",
      " 3 3 4 3 3 3 3 3 3 3 3 3 3 3 3 3 3 3 3 3 3 3 4 3 3 3 3 3 3 3 4 4 3 3 3 3 3\n",
      " 3 3 3 3 3 3 3 3 3 3 3 3 3 3 3 3 3 3 3 3 3 3 3 1 3 3 3 3 3 3 3 3 3 3 4 4 3\n",
      " 2 3 3 4 3 3 3 3 3 3 3 3 3 3 3 3 3 3 3 3 3 3 3 3 3 3 3 3 3 3 3 3 3 3 3 3 3\n",
      " 3 3 3 3 3 3 3 3 3 3 3 3 3 3 3 3 3 4 3 3 3 3 3 3 3 3 3 3 3 3 3 3 3 3 3 3 3\n",
      " 3 3 3 3 3 3 3 3 3 3 4 3 3 3 2 4 4 4 4 4 4 2 2 2 4 4 4 4 4 4 2 4 4 4 4 3 4\n",
      " 2 2 2 4 4 2 4 4 4 4 4 4 4 4 4 4 4 4 4 4 2 3 1 3 3 4 1 1 1 1 1 3 3 3 1 3 3\n",
      " 1 3 3 3 0 0 3 3 3 3 2 3 3 3 3 4 4 0 3 3 3 3 4 2 4 3 4 3 3 3 4 3 3 3 0 3 3\n",
      " 3 3 3 3 1 4 1 4 3 1 2 3 3 4 1 4 4 4 4 4 4 3 3 3 3 3 3 4 3 3 3 3 3 3 3 3 3\n",
      " 3 3 3 3 3 3 3 3 3 3 3 3 3 3 3 4 3 3 3 3 3 3 3 3 2 3 3 4 3 3 3 3 4]\n"
     ]
    }
   ],
   "source": [
    "print(y_km)"
   ]
  },
  {
   "cell_type": "markdown",
   "id": "d40d5f1e",
   "metadata": {},
   "source": [
    "**Concat ID and class**"
   ]
  },
  {
   "cell_type": "code",
   "execution_count": 21,
   "id": "9feeec3f",
   "metadata": {},
   "outputs": [
    {
     "data": {
      "text/html": [
       "<div>\n",
       "<style scoped>\n",
       "    .dataframe tbody tr th:only-of-type {\n",
       "        vertical-align: middle;\n",
       "    }\n",
       "\n",
       "    .dataframe tbody tr th {\n",
       "        vertical-align: top;\n",
       "    }\n",
       "\n",
       "    .dataframe thead th {\n",
       "        text-align: right;\n",
       "    }\n",
       "</style>\n",
       "<table border=\"1\" class=\"dataframe\">\n",
       "  <thead>\n",
       "    <tr style=\"text-align: right;\">\n",
       "      <th></th>\n",
       "      <th>EPI_ID</th>\n",
       "      <th>CLASS</th>\n",
       "    </tr>\n",
       "  </thead>\n",
       "  <tbody>\n",
       "    <tr>\n",
       "      <th>0</th>\n",
       "      <td>EPI00001559</td>\n",
       "      <td>3</td>\n",
       "    </tr>\n",
       "    <tr>\n",
       "      <th>1</th>\n",
       "      <td>EPI00001870</td>\n",
       "      <td>3</td>\n",
       "    </tr>\n",
       "    <tr>\n",
       "      <th>2</th>\n",
       "      <td>EPI00001871</td>\n",
       "      <td>3</td>\n",
       "    </tr>\n",
       "    <tr>\n",
       "      <th>3</th>\n",
       "      <td>EPI00001868</td>\n",
       "      <td>3</td>\n",
       "    </tr>\n",
       "    <tr>\n",
       "      <th>4</th>\n",
       "      <td>EPI00001726</td>\n",
       "      <td>3</td>\n",
       "    </tr>\n",
       "    <tr>\n",
       "      <th>...</th>\n",
       "      <td>...</td>\n",
       "      <td>...</td>\n",
       "    </tr>\n",
       "    <tr>\n",
       "      <th>548</th>\n",
       "      <td>EPI00001725</td>\n",
       "      <td>3</td>\n",
       "    </tr>\n",
       "    <tr>\n",
       "      <th>549</th>\n",
       "      <td>EPI00001865</td>\n",
       "      <td>3</td>\n",
       "    </tr>\n",
       "    <tr>\n",
       "      <th>550</th>\n",
       "      <td>EPI00001866</td>\n",
       "      <td>3</td>\n",
       "    </tr>\n",
       "    <tr>\n",
       "      <th>551</th>\n",
       "      <td>EPI00003141</td>\n",
       "      <td>3</td>\n",
       "    </tr>\n",
       "    <tr>\n",
       "      <th>552</th>\n",
       "      <td>EPI00003120</td>\n",
       "      <td>4</td>\n",
       "    </tr>\n",
       "  </tbody>\n",
       "</table>\n",
       "<p>551 rows × 2 columns</p>\n",
       "</div>"
      ],
      "text/plain": [
       "          EPI_ID  CLASS\n",
       "0    EPI00001559      3\n",
       "1    EPI00001870      3\n",
       "2    EPI00001871      3\n",
       "3    EPI00001868      3\n",
       "4    EPI00001726      3\n",
       "..           ...    ...\n",
       "548  EPI00001725      3\n",
       "549  EPI00001865      3\n",
       "550  EPI00001866      3\n",
       "551  EPI00003141      3\n",
       "552  EPI00003120      4\n",
       "\n",
       "[551 rows x 2 columns]"
      ]
     },
     "execution_count": 21,
     "metadata": {},
     "output_type": "execute_result"
    }
   ],
   "source": [
    "classification_df = pd.DataFrame({'EPI_ID': epi_id_idf, 'CLASS': y_km})\n",
    "classification_df"
   ]
  },
  {
   "cell_type": "markdown",
   "id": "e5fd13da",
   "metadata": {},
   "source": [
    "**Export to CSV**"
   ]
  },
  {
   "cell_type": "code",
   "execution_count": 22,
   "id": "78f9c040",
   "metadata": {},
   "outputs": [
    {
     "name": "stdout",
     "output_type": "stream",
     "text": [
      "Done\n"
     ]
    },
    {
     "name": "stderr",
     "output_type": "stream",
     "text": [
      "A subdirectory or file outputs already exists.\n"
     ]
    }
   ],
   "source": [
    "!mkdir outputs\n",
    "classification_df.to_csv('outputs/classification_results_kmeans.csv', index=False)\n",
    "print(\"Done\")"
   ]
  },
  {
   "cell_type": "markdown",
   "id": "4a973256",
   "metadata": {},
   "source": [
    "<a id=\"feature\"></a>\n",
    "\n",
    "# 3 Feature Selection"
   ]
  },
  {
   "cell_type": "markdown",
   "id": "7f54134e",
   "metadata": {},
   "source": [
    "## 3.1 Correlation"
   ]
  },
  {
   "cell_type": "code",
   "execution_count": 23,
   "id": "0e8ca2bf",
   "metadata": {},
   "outputs": [
    {
     "data": {
      "text/plain": [
       "Text(0.5, 1.0, ' Correlation Heatmap')"
      ]
     },
     "execution_count": 23,
     "metadata": {},
     "output_type": "execute_result"
    },
    {
     "data": {
      "image/png": "[encoded data removed]",
      "text/plain": [
       "<Figure size 864x360 with 1 Axes>"
      ]
     },
     "metadata": {},
     "output_type": "display_data"
    }
   ],
   "source": [
    "sns.set(rc={\"figure.figsize\":(12, 5)})\n",
    "sns.heatmap(df.corr(),annot = True, cbar = False, cmap = \"Blues\").set_title(\" Correlation Heatmap\" , \n",
    "                                                                            fontdict={'fontsize':16}, pad=16)"
   ]
  },
  {
   "cell_type": "markdown",
   "id": "6504a919",
   "metadata": {},
   "source": [
    "We can see the last 6 variables are highly correlated. Indeed they all contain information about population number. Adding complexity to our model doesn't help with predictions but actually make it harder\n",
    "Let's keep only 1 feature about population`EP_S_U5` = population under 5 and `EP_S_PW` = Pregnant women population"
   ]
  },
  {
   "cell_type": "code",
   "execution_count": 24,
   "id": "88141650",
   "metadata": {},
   "outputs": [],
   "source": [
    "corr_df = df.drop(['EPI_S_P', 'EP_S_U1', 'EP_S_U15', 'EP_S_WCBA'], axis=1)"
   ]
  },
  {
   "cell_type": "code",
   "execution_count": 25,
   "id": "c6ed15ed",
   "metadata": {},
   "outputs": [
    {
     "data": {
      "text/plain": [
       "Text(0.5, 1.0, ' Correlation Heatmap')"
      ]
     },
     "execution_count": 25,
     "metadata": {},
     "output_type": "execute_result"
    },
    {
     "data": {
      "image/png": "[encoded data removed]",
      "text/plain": [
       "<Figure size 864x360 with 1 Axes>"
      ]
     },
     "metadata": {},
     "output_type": "display_data"
    }
   ],
   "source": [
    "sns.set(rc={\"figure.figsize\":(12, 5)})\n",
    "sns.heatmap(corr_df.corr(),annot = True, cbar = False, cmap = \"Blues\").set_title(\" Correlation Heatmap\" , \n",
    "                                                                            fontdict={'fontsize':16}, pad=16)"
   ]
  },
  {
   "cell_type": "markdown",
   "id": "7490061c",
   "metadata": {},
   "source": [
    "Let's note that `EPI_T_EN`, `TS_C`, `TS_N_EN`, `VW_T` are basically just information of code of the community as well as type. In another part we might be interested to remove those to see if it affects our predictions"
   ]
  },
  {
   "cell_type": "code",
   "execution_count": 26,
   "id": "89bffb28",
   "metadata": {},
   "outputs": [
    {
     "data": {
      "text/html": [
       "<div>\n",
       "<style scoped>\n",
       "    .dataframe tbody tr th:only-of-type {\n",
       "        vertical-align: middle;\n",
       "    }\n",
       "\n",
       "    .dataframe tbody tr th {\n",
       "        vertical-align: top;\n",
       "    }\n",
       "\n",
       "    .dataframe thead th {\n",
       "        text-align: right;\n",
       "    }\n",
       "</style>\n",
       "<table border=\"1\" class=\"dataframe\">\n",
       "  <thead>\n",
       "    <tr style=\"text-align: right;\">\n",
       "      <th></th>\n",
       "      <th>EPI_T_EN</th>\n",
       "      <th>IMM_S</th>\n",
       "      <th>TS_C</th>\n",
       "      <th>TS_N_EN</th>\n",
       "      <th>VW_T</th>\n",
       "      <th>HF_L1_T</th>\n",
       "      <th>EP_S_U5</th>\n",
       "      <th>EP_S_PW</th>\n",
       "    </tr>\n",
       "  </thead>\n",
       "  <tbody>\n",
       "    <tr>\n",
       "      <th>0</th>\n",
       "      <td>3</td>\n",
       "      <td>1</td>\n",
       "      <td>5</td>\n",
       "      <td>5</td>\n",
       "      <td>0</td>\n",
       "      <td>0</td>\n",
       "      <td>7.0</td>\n",
       "      <td>2.0</td>\n",
       "    </tr>\n",
       "    <tr>\n",
       "      <th>1</th>\n",
       "      <td>0</td>\n",
       "      <td>1</td>\n",
       "      <td>0</td>\n",
       "      <td>0</td>\n",
       "      <td>0</td>\n",
       "      <td>1</td>\n",
       "      <td>36.0</td>\n",
       "      <td>25.0</td>\n",
       "    </tr>\n",
       "    <tr>\n",
       "      <th>2</th>\n",
       "      <td>1</td>\n",
       "      <td>1</td>\n",
       "      <td>0</td>\n",
       "      <td>0</td>\n",
       "      <td>0</td>\n",
       "      <td>1</td>\n",
       "      <td>5.0</td>\n",
       "      <td>1.0</td>\n",
       "    </tr>\n",
       "    <tr>\n",
       "      <th>3</th>\n",
       "      <td>0</td>\n",
       "      <td>0</td>\n",
       "      <td>0</td>\n",
       "      <td>0</td>\n",
       "      <td>0</td>\n",
       "      <td>1</td>\n",
       "      <td>7.0</td>\n",
       "      <td>3.0</td>\n",
       "    </tr>\n",
       "    <tr>\n",
       "      <th>4</th>\n",
       "      <td>0</td>\n",
       "      <td>0</td>\n",
       "      <td>0</td>\n",
       "      <td>0</td>\n",
       "      <td>0</td>\n",
       "      <td>0</td>\n",
       "      <td>9.0</td>\n",
       "      <td>3.0</td>\n",
       "    </tr>\n",
       "  </tbody>\n",
       "</table>\n",
       "</div>"
      ],
      "text/plain": [
       "   EPI_T_EN  IMM_S  TS_C  TS_N_EN  VW_T  HF_L1_T  EP_S_U5  EP_S_PW\n",
       "0         3      1     5        5     0        0      7.0      2.0\n",
       "1         0      1     0        0     0        1     36.0     25.0\n",
       "2         1      1     0        0     0        1      5.0      1.0\n",
       "3         0      0     0        0     0        1      7.0      3.0\n",
       "4         0      0     0        0     0        0      9.0      3.0"
      ]
     },
     "execution_count": 26,
     "metadata": {},
     "output_type": "execute_result"
    }
   ],
   "source": [
    "corr_df.head()"
   ]
  },
  {
   "cell_type": "markdown",
   "id": "5928db14",
   "metadata": {},
   "source": [
    "## 3.2 Distribution"
   ]
  },
  {
   "cell_type": "markdown",
   "id": "9cff3715",
   "metadata": {},
   "source": [
    "What we want to do now is see if our data is evenly distributed. Based on the results, we might want to do some normalization"
   ]
  },
  {
   "cell_type": "code",
   "execution_count": 27,
   "id": "be9cb57d",
   "metadata": {},
   "outputs": [
    {
     "data": {
      "text/plain": [
       "<AxesSubplot:xlabel='EP_S_PW', ylabel='Count'>"
      ]
     },
     "execution_count": 27,
     "metadata": {},
     "output_type": "execute_result"
    },
    {
     "data": {
      "image/png": "[encoded data removed]",
      "text/plain": [
       "<Figure size 864x360 with 2 Axes>"
      ]
     },
     "metadata": {},
     "output_type": "display_data"
    }
   ],
   "source": [
    "fig, (axe1, axe2) = plt.subplots(1,2)\n",
    "sns.histplot(corr_df[\"EP_S_U5\"], ax=axe1)\n",
    "sns.histplot(corr_df[\"EP_S_PW\"], ax=axe2)"
   ]
  },
  {
   "cell_type": "code",
   "execution_count": 28,
   "id": "12f8a7ea",
   "metadata": {},
   "outputs": [
    {
     "data": {
      "text/html": [
       "<div>\n",
       "<style scoped>\n",
       "    .dataframe tbody tr th:only-of-type {\n",
       "        vertical-align: middle;\n",
       "    }\n",
       "\n",
       "    .dataframe tbody tr th {\n",
       "        vertical-align: top;\n",
       "    }\n",
       "\n",
       "    .dataframe thead th {\n",
       "        text-align: right;\n",
       "    }\n",
       "</style>\n",
       "<table border=\"1\" class=\"dataframe\">\n",
       "  <thead>\n",
       "    <tr style=\"text-align: right;\">\n",
       "      <th></th>\n",
       "      <th>EPI_T_EN</th>\n",
       "      <th>IMM_S</th>\n",
       "      <th>TS_C</th>\n",
       "      <th>TS_N_EN</th>\n",
       "      <th>VW_T</th>\n",
       "      <th>HF_L1_T</th>\n",
       "      <th>EP_S_U5</th>\n",
       "      <th>EP_S_PW</th>\n",
       "    </tr>\n",
       "  </thead>\n",
       "  <tbody>\n",
       "    <tr>\n",
       "      <th>0</th>\n",
       "      <td>3</td>\n",
       "      <td>1</td>\n",
       "      <td>5</td>\n",
       "      <td>5</td>\n",
       "      <td>0</td>\n",
       "      <td>0</td>\n",
       "      <td>-0.416784</td>\n",
       "      <td>-0.244034</td>\n",
       "    </tr>\n",
       "    <tr>\n",
       "      <th>1</th>\n",
       "      <td>0</td>\n",
       "      <td>1</td>\n",
       "      <td>0</td>\n",
       "      <td>0</td>\n",
       "      <td>0</td>\n",
       "      <td>1</td>\n",
       "      <td>-0.330211</td>\n",
       "      <td>-0.111751</td>\n",
       "    </tr>\n",
       "    <tr>\n",
       "      <th>2</th>\n",
       "      <td>1</td>\n",
       "      <td>1</td>\n",
       "      <td>0</td>\n",
       "      <td>0</td>\n",
       "      <td>0</td>\n",
       "      <td>1</td>\n",
       "      <td>-0.422755</td>\n",
       "      <td>-0.249786</td>\n",
       "    </tr>\n",
       "    <tr>\n",
       "      <th>3</th>\n",
       "      <td>0</td>\n",
       "      <td>0</td>\n",
       "      <td>0</td>\n",
       "      <td>0</td>\n",
       "      <td>0</td>\n",
       "      <td>1</td>\n",
       "      <td>-0.416784</td>\n",
       "      <td>-0.238283</td>\n",
       "    </tr>\n",
       "    <tr>\n",
       "      <th>4</th>\n",
       "      <td>0</td>\n",
       "      <td>0</td>\n",
       "      <td>0</td>\n",
       "      <td>0</td>\n",
       "      <td>0</td>\n",
       "      <td>0</td>\n",
       "      <td>-0.410814</td>\n",
       "      <td>-0.238283</td>\n",
       "    </tr>\n",
       "    <tr>\n",
       "      <th>...</th>\n",
       "      <td>...</td>\n",
       "      <td>...</td>\n",
       "      <td>...</td>\n",
       "      <td>...</td>\n",
       "      <td>...</td>\n",
       "      <td>...</td>\n",
       "      <td>...</td>\n",
       "      <td>...</td>\n",
       "    </tr>\n",
       "    <tr>\n",
       "      <th>548</th>\n",
       "      <td>1</td>\n",
       "      <td>0</td>\n",
       "      <td>0</td>\n",
       "      <td>0</td>\n",
       "      <td>0</td>\n",
       "      <td>1</td>\n",
       "      <td>-0.434696</td>\n",
       "      <td>-0.255537</td>\n",
       "    </tr>\n",
       "    <tr>\n",
       "      <th>549</th>\n",
       "      <td>1</td>\n",
       "      <td>1</td>\n",
       "      <td>0</td>\n",
       "      <td>0</td>\n",
       "      <td>0</td>\n",
       "      <td>1</td>\n",
       "      <td>-0.434696</td>\n",
       "      <td>-0.255537</td>\n",
       "    </tr>\n",
       "    <tr>\n",
       "      <th>550</th>\n",
       "      <td>1</td>\n",
       "      <td>0</td>\n",
       "      <td>0</td>\n",
       "      <td>0</td>\n",
       "      <td>0</td>\n",
       "      <td>1</td>\n",
       "      <td>-0.360064</td>\n",
       "      <td>-0.244034</td>\n",
       "    </tr>\n",
       "    <tr>\n",
       "      <th>551</th>\n",
       "      <td>0</td>\n",
       "      <td>0</td>\n",
       "      <td>1</td>\n",
       "      <td>1</td>\n",
       "      <td>0</td>\n",
       "      <td>1</td>\n",
       "      <td>0.111609</td>\n",
       "      <td>-0.025480</td>\n",
       "    </tr>\n",
       "    <tr>\n",
       "      <th>552</th>\n",
       "      <td>0</td>\n",
       "      <td>1</td>\n",
       "      <td>1</td>\n",
       "      <td>1</td>\n",
       "      <td>0</td>\n",
       "      <td>1</td>\n",
       "      <td>0.511636</td>\n",
       "      <td>0.687699</td>\n",
       "    </tr>\n",
       "  </tbody>\n",
       "</table>\n",
       "<p>551 rows × 8 columns</p>\n",
       "</div>"
      ],
      "text/plain": [
       "     EPI_T_EN  IMM_S  TS_C  TS_N_EN  VW_T  HF_L1_T   EP_S_U5   EP_S_PW\n",
       "0           3      1     5        5     0        0 -0.416784 -0.244034\n",
       "1           0      1     0        0     0        1 -0.330211 -0.111751\n",
       "2           1      1     0        0     0        1 -0.422755 -0.249786\n",
       "3           0      0     0        0     0        1 -0.416784 -0.238283\n",
       "4           0      0     0        0     0        0 -0.410814 -0.238283\n",
       "..        ...    ...   ...      ...   ...      ...       ...       ...\n",
       "548         1      0     0        0     0        1 -0.434696 -0.255537\n",
       "549         1      1     0        0     0        1 -0.434696 -0.255537\n",
       "550         1      0     0        0     0        1 -0.360064 -0.244034\n",
       "551         0      0     1        1     0        1  0.111609 -0.025480\n",
       "552         0      1     1        1     0        1  0.511636  0.687699\n",
       "\n",
       "[551 rows x 8 columns]"
      ]
     },
     "execution_count": 28,
     "metadata": {},
     "output_type": "execute_result"
    }
   ],
   "source": [
    "\n",
    "\n",
    "temp_df = corr_df[[\"EP_S_U5\", \"EP_S_PW\"]]\n",
    "scaler = StandardScaler()\n",
    "scaler.fit(temp_df)\n",
    "temp_df = scaler.transform(temp_df)\n",
    "corr_df[\"EP_S_U5\"] = temp_df.transpose()[0]\n",
    "corr_df[\"EP_S_PW\"] = temp_df.transpose()[1]\n",
    "corr_df"
   ]
  },
  {
   "cell_type": "code",
   "execution_count": 29,
   "id": "51177add",
   "metadata": {},
   "outputs": [
    {
     "data": {
      "text/plain": [
       "<AxesSubplot:xlabel='EP_S_PW', ylabel='Count'>"
      ]
     },
     "execution_count": 29,
     "metadata": {},
     "output_type": "execute_result"
    },
    {
     "data": {
      "image/png": "[encoded data removed]",
      "text/plain": [
       "<Figure size 864x360 with 2 Axes>"
      ]
     },
     "metadata": {},
     "output_type": "display_data"
    }
   ],
   "source": [
    "fig, (axe1, axe2) = plt.subplots(1,2)\n",
    "sns.histplot(corr_df[\"EP_S_U5\"], ax=axe1)\n",
    "sns.histplot(corr_df[\"EP_S_PW\"], ax=axe2)"
   ]
  },
  {
   "cell_type": "markdown",
   "id": "0b98751c",
   "metadata": {},
   "source": [
    "Categorical features"
   ]
  },
  {
   "cell_type": "code",
   "execution_count": 30,
   "id": "82cc0e6a",
   "metadata": {},
   "outputs": [],
   "source": [
    "\n",
    "# fig, (ax1, ax2, ax3) = plt.subplots(1,3)\n",
    "# sns.histplot(corr_df[\"EPI_T_EN\"], ax=ax1)\n",
    "# sns.histplot(corr_df[\"IMM_S\"], ax=ax2)\n",
    "# sns.histplot(corr_df[\"TS_C\"], ax=ax3)\n",
    "\n",
    "# fig2, (ax4, ax5, ax6) = plt.subplots(1,3)\n",
    "# sns.histplot(corr_df[\"TS_N_EN\"], ax=ax4)\n",
    "# sns.histplot(corr_df[\"VW_T\"], ax=ax5)\n",
    "# sns.histplot(corr_df[\"HF_L1_T\"], ax=ax6)"
   ]
  },
  {
   "cell_type": "code",
   "execution_count": 31,
   "id": "3b901801",
   "metadata": {},
   "outputs": [
    {
     "data": {
      "image/png": "[encoded data removed]",
      "text/plain": [
       "<Figure size 864x360 with 2 Axes>"
      ]
     },
     "metadata": {},
     "output_type": "display_data"
    },
    {
     "data": {
      "text/plain": [
       "<AxesSubplot:title={'center':'Distortion Score Elbow for KMeans Clustering'}, xlabel='k', ylabel='distortion score'>"
      ]
     },
     "execution_count": 31,
     "metadata": {},
     "output_type": "execute_result"
    }
   ],
   "source": [
    "model = KMeans()\n",
    "visualize = KElbowVisualizer(model, k=(1,10))\n",
    "visualize.fit(corr_df)\n",
    "visualize.poof()"
   ]
  },
  {
   "cell_type": "markdown",
   "id": "e2f40901",
   "metadata": {},
   "source": [
    "It seems K=3 is the best cluster number"
   ]
  },
  {
   "cell_type": "code",
   "execution_count": 32,
   "id": "238fba07",
   "metadata": {},
   "outputs": [],
   "source": [
    "X = np.array(corr_df.iloc[:, 1:])"
   ]
  },
  {
   "cell_type": "code",
   "execution_count": 33,
   "id": "1bce26a7",
   "metadata": {},
   "outputs": [],
   "source": [
    "model = KMeans(n_clusters=3, random_state=42)\n",
    "y_preds = model.fit_predict(X)"
   ]
  },
  {
   "cell_type": "code",
   "execution_count": 34,
   "id": "0732a2a0",
   "metadata": {},
   "outputs": [
    {
     "name": "stdout",
     "output_type": "stream",
     "text": [
      "[1 0 0 0 0 0 0 0 0 0 0 0 0 0 0 0 0 0 0 0 0 0 0 0 0 0 0 0 0 0 0 0 0 0 0 0 0\n",
      " 0 0 0 0 0 0 0 0 0 0 0 0 0 0 0 0 0 0 1 0 0 0 0 0 0 0 0 0 0 0 0 0 0 0 0 0 0\n",
      " 0 0 1 0 0 0 0 0 0 0 0 0 0 0 0 0 0 0 0 0 0 0 0 0 0 0 1 1 0 0 0 0 0 0 0 0 0\n",
      " 0 0 0 0 0 0 0 0 0 0 0 0 0 0 0 0 0 0 0 0 0 0 0 0 0 0 0 0 0 0 0 0 0 0 0 0 0\n",
      " 0 0 0 0 0 0 0 0 0 0 0 0 0 0 0 0 0 0 0 0 0 0 0 0 0 0 0 0 0 0 0 0 0 0 0 0 0\n",
      " 0 0 1 1 1 1 1 1 1 1 0 2 0 0 0 0 0 0 0 0 0 0 0 0 0 2 0 0 0 0 0 0 0 0 0 0 0\n",
      " 0 0 0 0 0 0 0 0 0 0 0 0 0 0 0 0 0 0 0 0 0 0 0 0 0 0 0 0 0 0 0 0 0 0 0 0 0\n",
      " 0 0 0 0 0 0 0 0 0 0 0 0 0 0 0 0 0 0 0 0 0 0 0 2 0 0 0 0 0 0 0 0 0 0 0 0 0\n",
      " 2 0 0 0 0 0 0 0 0 0 0 0 0 0 0 0 0 0 0 0 0 0 0 0 0 0 0 0 0 0 0 0 0 0 0 1 1\n",
      " 1 0 0 0 0 0 0 0 0 0 0 0 0 0 0 0 0 0 0 0 0 0 0 0 0 0 0 0 0 0 0 0 0 0 0 0 0\n",
      " 0 0 0 0 0 0 0 0 0 0 0 0 0 0 1 1 1 1 1 1 1 0 1 1 0 0 0 1 1 1 1 1 1 1 1 1 1\n",
      " 1 1 1 1 1 1 1 0 0 1 1 1 1 1 1 1 1 1 1 1 1 1 2 1 1 1 2 2 2 2 2 1 1 1 1 1 1\n",
      " 2 0 0 0 2 2 0 0 0 1 2 1 1 1 1 1 1 2 1 1 1 1 1 2 1 1 1 1 1 1 1 1 0 0 2 0 0\n",
      " 0 0 0 1 2 1 2 1 1 2 1 1 1 1 2 1 1 0 0 0 1 0 0 0 0 0 0 1 0 0 0 0 0 0 0 0 0\n",
      " 0 0 0 0 0 0 0 0 0 0 0 0 0 0 0 0 0 0 0 0 0 0 0 0 0 0 0 0 0 0 0 0 0]\n"
     ]
    }
   ],
   "source": [
    "print(y_preds)"
   ]
  },
  {
   "cell_type": "code",
   "execution_count": 35,
   "id": "7655db9f",
   "metadata": {},
   "outputs": [
    {
     "data": {
      "text/html": [
       "<div>\n",
       "<style scoped>\n",
       "    .dataframe tbody tr th:only-of-type {\n",
       "        vertical-align: middle;\n",
       "    }\n",
       "\n",
       "    .dataframe tbody tr th {\n",
       "        vertical-align: top;\n",
       "    }\n",
       "\n",
       "    .dataframe thead th {\n",
       "        text-align: right;\n",
       "    }\n",
       "</style>\n",
       "<table border=\"1\" class=\"dataframe\">\n",
       "  <thead>\n",
       "    <tr style=\"text-align: right;\">\n",
       "      <th></th>\n",
       "      <th>EPI_T_EN</th>\n",
       "      <th>IMM_S</th>\n",
       "      <th>TS_C</th>\n",
       "      <th>TS_N_EN</th>\n",
       "      <th>VW_T</th>\n",
       "      <th>HF_L1_T</th>\n",
       "      <th>EP_S_U5</th>\n",
       "      <th>EP_S_PW</th>\n",
       "      <th>clusters</th>\n",
       "    </tr>\n",
       "  </thead>\n",
       "  <tbody>\n",
       "    <tr>\n",
       "      <th>0</th>\n",
       "      <td>3</td>\n",
       "      <td>1</td>\n",
       "      <td>5</td>\n",
       "      <td>5</td>\n",
       "      <td>0</td>\n",
       "      <td>0</td>\n",
       "      <td>-0.416784</td>\n",
       "      <td>-0.244034</td>\n",
       "      <td>1</td>\n",
       "    </tr>\n",
       "    <tr>\n",
       "      <th>1</th>\n",
       "      <td>0</td>\n",
       "      <td>1</td>\n",
       "      <td>0</td>\n",
       "      <td>0</td>\n",
       "      <td>0</td>\n",
       "      <td>1</td>\n",
       "      <td>-0.330211</td>\n",
       "      <td>-0.111751</td>\n",
       "      <td>0</td>\n",
       "    </tr>\n",
       "    <tr>\n",
       "      <th>2</th>\n",
       "      <td>1</td>\n",
       "      <td>1</td>\n",
       "      <td>0</td>\n",
       "      <td>0</td>\n",
       "      <td>0</td>\n",
       "      <td>1</td>\n",
       "      <td>-0.422755</td>\n",
       "      <td>-0.249786</td>\n",
       "      <td>0</td>\n",
       "    </tr>\n",
       "    <tr>\n",
       "      <th>3</th>\n",
       "      <td>0</td>\n",
       "      <td>0</td>\n",
       "      <td>0</td>\n",
       "      <td>0</td>\n",
       "      <td>0</td>\n",
       "      <td>1</td>\n",
       "      <td>-0.416784</td>\n",
       "      <td>-0.238283</td>\n",
       "      <td>0</td>\n",
       "    </tr>\n",
       "    <tr>\n",
       "      <th>4</th>\n",
       "      <td>0</td>\n",
       "      <td>0</td>\n",
       "      <td>0</td>\n",
       "      <td>0</td>\n",
       "      <td>0</td>\n",
       "      <td>0</td>\n",
       "      <td>-0.410814</td>\n",
       "      <td>-0.238283</td>\n",
       "      <td>0</td>\n",
       "    </tr>\n",
       "  </tbody>\n",
       "</table>\n",
       "</div>"
      ],
      "text/plain": [
       "   EPI_T_EN  IMM_S  TS_C  TS_N_EN  VW_T  HF_L1_T   EP_S_U5   EP_S_PW  clusters\n",
       "0         3      1     5        5     0        0 -0.416784 -0.244034         1\n",
       "1         0      1     0        0     0        1 -0.330211 -0.111751         0\n",
       "2         1      1     0        0     0        1 -0.422755 -0.249786         0\n",
       "3         0      0     0        0     0        1 -0.416784 -0.238283         0\n",
       "4         0      0     0        0     0        0 -0.410814 -0.238283         0"
      ]
     },
     "execution_count": 35,
     "metadata": {},
     "output_type": "execute_result"
    }
   ],
   "source": [
    "classification_df = corr_df\n",
    "classification_df[\"clusters\"] = model.labels_\n",
    "classification_df.head()"
   ]
  },
  {
   "cell_type": "code",
   "execution_count": 36,
   "id": "c13ce92c",
   "metadata": {},
   "outputs": [
    {
     "name": "stdout",
     "output_type": "stream",
     "text": [
      "Saved @ outputs/classification_with_regions_5_features_kmeans_k3.csv\n"
     ]
    }
   ],
   "source": [
    "save(y_preds, 'classification_with_regions_5_features_kmeans_k3.csv', epi_id_idf)"
   ]
  },
  {
   "cell_type": "markdown",
   "id": "615b2e88",
   "metadata": {},
   "source": [
    "<hr>"
   ]
  },
  {
   "cell_type": "markdown",
   "id": "6ae35f35",
   "metadata": {},
   "source": [
    "<a id=\"feature2\"></a>\n",
    "# 4. Feature Selection 2"
   ]
  },
  {
   "cell_type": "markdown",
   "id": "0aafd1b5",
   "metadata": {},
   "source": [
    "Here let's remove the township/region info from our database and see what happens"
   ]
  },
  {
   "cell_type": "code",
   "execution_count": 37,
   "id": "ff163826",
   "metadata": {},
   "outputs": [
    {
     "data": {
      "text/html": [
       "<div>\n",
       "<style scoped>\n",
       "    .dataframe tbody tr th:only-of-type {\n",
       "        vertical-align: middle;\n",
       "    }\n",
       "\n",
       "    .dataframe tbody tr th {\n",
       "        vertical-align: top;\n",
       "    }\n",
       "\n",
       "    .dataframe thead th {\n",
       "        text-align: right;\n",
       "    }\n",
       "</style>\n",
       "<table border=\"1\" class=\"dataframe\">\n",
       "  <thead>\n",
       "    <tr style=\"text-align: right;\">\n",
       "      <th></th>\n",
       "      <th>IMM_S</th>\n",
       "      <th>EP_S_U5</th>\n",
       "      <th>EP_S_PW</th>\n",
       "      <th>clusters</th>\n",
       "    </tr>\n",
       "  </thead>\n",
       "  <tbody>\n",
       "    <tr>\n",
       "      <th>0</th>\n",
       "      <td>1</td>\n",
       "      <td>-0.416784</td>\n",
       "      <td>-0.244034</td>\n",
       "      <td>1</td>\n",
       "    </tr>\n",
       "    <tr>\n",
       "      <th>1</th>\n",
       "      <td>1</td>\n",
       "      <td>-0.330211</td>\n",
       "      <td>-0.111751</td>\n",
       "      <td>0</td>\n",
       "    </tr>\n",
       "    <tr>\n",
       "      <th>2</th>\n",
       "      <td>1</td>\n",
       "      <td>-0.422755</td>\n",
       "      <td>-0.249786</td>\n",
       "      <td>0</td>\n",
       "    </tr>\n",
       "    <tr>\n",
       "      <th>3</th>\n",
       "      <td>0</td>\n",
       "      <td>-0.416784</td>\n",
       "      <td>-0.238283</td>\n",
       "      <td>0</td>\n",
       "    </tr>\n",
       "    <tr>\n",
       "      <th>4</th>\n",
       "      <td>0</td>\n",
       "      <td>-0.410814</td>\n",
       "      <td>-0.238283</td>\n",
       "      <td>0</td>\n",
       "    </tr>\n",
       "  </tbody>\n",
       "</table>\n",
       "</div>"
      ],
      "text/plain": [
       "   IMM_S   EP_S_U5   EP_S_PW  clusters\n",
       "0      1 -0.416784 -0.244034         1\n",
       "1      1 -0.330211 -0.111751         0\n",
       "2      1 -0.422755 -0.249786         0\n",
       "3      0 -0.416784 -0.238283         0\n",
       "4      0 -0.410814 -0.238283         0"
      ]
     },
     "execution_count": 37,
     "metadata": {},
     "output_type": "execute_result"
    }
   ],
   "source": [
    "df_truncated = corr_df.drop([\"EPI_T_EN\", \"TS_C\", \"TS_C\", \"TS_N_EN\", \"VW_T\", \"HF_L1_T\"], axis=1)\n",
    "df_truncated.head()"
   ]
  },
  {
   "cell_type": "markdown",
   "id": "a6634ebd",
   "metadata": {},
   "source": [
    "## Finding the right K cluster number"
   ]
  },
  {
   "cell_type": "code",
   "execution_count": 38,
   "id": "ed2a645f",
   "metadata": {},
   "outputs": [
    {
     "data": {
      "image/png": "[encoded data removed]",
      "text/plain": [
       "<Figure size 864x360 with 2 Axes>"
      ]
     },
     "metadata": {},
     "output_type": "display_data"
    },
    {
     "data": {
      "text/plain": [
       "<AxesSubplot:title={'center':'Distortion Score Elbow for KMeans Clustering'}, xlabel='k', ylabel='distortion score'>"
      ]
     },
     "execution_count": 38,
     "metadata": {},
     "output_type": "execute_result"
    }
   ],
   "source": [
    "model2 = KMeans()\n",
    "visualize = KElbowVisualizer(model2, k=(1,10))\n",
    "visualize.fit(df_truncated)\n",
    "visualize.poof()"
   ]
  },
  {
   "cell_type": "markdown",
   "id": "59dbbfce",
   "metadata": {},
   "source": [
    "### KMEANS USING 3 CLUSTERS"
   ]
  },
  {
   "cell_type": "code",
   "execution_count": 39,
   "id": "750954cf",
   "metadata": {},
   "outputs": [
    {
     "data": {
      "text/html": [
       "<div>\n",
       "<style scoped>\n",
       "    .dataframe tbody tr th:only-of-type {\n",
       "        vertical-align: middle;\n",
       "    }\n",
       "\n",
       "    .dataframe tbody tr th {\n",
       "        vertical-align: top;\n",
       "    }\n",
       "\n",
       "    .dataframe thead th {\n",
       "        text-align: right;\n",
       "    }\n",
       "</style>\n",
       "<table border=\"1\" class=\"dataframe\">\n",
       "  <thead>\n",
       "    <tr style=\"text-align: right;\">\n",
       "      <th></th>\n",
       "      <th>IMM_S</th>\n",
       "      <th>EP_S_U5</th>\n",
       "      <th>EP_S_PW</th>\n",
       "      <th>clusters</th>\n",
       "    </tr>\n",
       "  </thead>\n",
       "  <tbody>\n",
       "    <tr>\n",
       "      <th>0</th>\n",
       "      <td>F</td>\n",
       "      <td>7.0</td>\n",
       "      <td>2.0</td>\n",
       "      <td>1</td>\n",
       "    </tr>\n",
       "    <tr>\n",
       "      <th>1</th>\n",
       "      <td>F</td>\n",
       "      <td>36.0</td>\n",
       "      <td>25.0</td>\n",
       "      <td>1</td>\n",
       "    </tr>\n",
       "    <tr>\n",
       "      <th>2</th>\n",
       "      <td>F</td>\n",
       "      <td>5.0</td>\n",
       "      <td>1.0</td>\n",
       "      <td>1</td>\n",
       "    </tr>\n",
       "    <tr>\n",
       "      <th>3</th>\n",
       "      <td>O</td>\n",
       "      <td>7.0</td>\n",
       "      <td>3.0</td>\n",
       "      <td>0</td>\n",
       "    </tr>\n",
       "    <tr>\n",
       "      <th>4</th>\n",
       "      <td>O</td>\n",
       "      <td>9.0</td>\n",
       "      <td>3.0</td>\n",
       "      <td>0</td>\n",
       "    </tr>\n",
       "  </tbody>\n",
       "</table>\n",
       "</div>"
      ],
      "text/plain": [
       "  IMM_S  EP_S_U5  EP_S_PW  clusters\n",
       "0     F      7.0      2.0         1\n",
       "1     F     36.0     25.0         1\n",
       "2     F      5.0      1.0         1\n",
       "3     O      7.0      3.0         0\n",
       "4     O      9.0      3.0         0"
      ]
     },
     "execution_count": 39,
     "metadata": {},
     "output_type": "execute_result"
    }
   ],
   "source": [
    "n_clusters = 3\n",
    "\n",
    "km = KMeans(\n",
    "    n_clusters=n_clusters, init='random',\n",
    "    n_init=10, max_iter=1000, \n",
    "    tol=1e-04, random_state=42\n",
    ")\n",
    "y_km2 = km.fit_predict(df_truncated)\n",
    "classification_df2 = raw_df_truncated[['IMM_S', 'EP_S_U5', 'EP_S_PW']].copy()\n",
    "classification_df2[\"clusters\"] = km.labels_\n",
    "classification_df2.head()"
   ]
  },
  {
   "cell_type": "code",
   "execution_count": 40,
   "id": "281e397b",
   "metadata": {},
   "outputs": [
    {
     "name": "stdout",
     "output_type": "stream",
     "text": [
      "Saved @ outputs/classification_3_features_kmeans_k3.csv\n"
     ]
    }
   ],
   "source": [
    "save(y_km2, 'classification_3_features_kmeans_k3.csv', epi_id_idf)"
   ]
  },
  {
   "cell_type": "markdown",
   "id": "502143de",
   "metadata": {},
   "source": [
    "# 4 Summary of results"
   ]
  },
  {
   "cell_type": "code",
   "execution_count": 41,
   "id": "b6c5d43f",
   "metadata": {},
   "outputs": [],
   "source": [
    "cluster1 = classification_df2.drop(\"IMM_S\", axis=1)[classification_df2.clusters == 0]\n",
    "cluster2 = classification_df2.drop(\"IMM_S\", axis=1)[classification_df2.clusters == 1]\n",
    "cluster3 = classification_df2.drop(\"IMM_S\", axis=1)[classification_df2.clusters == 2]"
   ]
  },
  {
   "cell_type": "code",
   "execution_count": 42,
   "id": "6e5d111e",
   "metadata": {},
   "outputs": [
    {
     "data": {
      "text/html": [
       "<div>\n",
       "<style scoped>\n",
       "    .dataframe tbody tr th:only-of-type {\n",
       "        vertical-align: middle;\n",
       "    }\n",
       "\n",
       "    .dataframe tbody tr th {\n",
       "        vertical-align: top;\n",
       "    }\n",
       "\n",
       "    .dataframe thead th {\n",
       "        text-align: right;\n",
       "    }\n",
       "</style>\n",
       "<table border=\"1\" class=\"dataframe\">\n",
       "  <thead>\n",
       "    <tr style=\"text-align: right;\">\n",
       "      <th></th>\n",
       "      <th>all data</th>\n",
       "      <th>cluster 1</th>\n",
       "      <th>cluster 2</th>\n",
       "      <th>cluster 3</th>\n",
       "    </tr>\n",
       "  </thead>\n",
       "  <tbody>\n",
       "    <tr>\n",
       "      <th>EP_S_U5</th>\n",
       "      <td>146.613430</td>\n",
       "      <td>84.215385</td>\n",
       "      <td>101.034146</td>\n",
       "      <td>1557.238095</td>\n",
       "    </tr>\n",
       "    <tr>\n",
       "      <th>EP_S_PW</th>\n",
       "      <td>44.430127</td>\n",
       "      <td>19.664615</td>\n",
       "      <td>25.121951</td>\n",
       "      <td>616.190476</td>\n",
       "    </tr>\n",
       "    <tr>\n",
       "      <th>clusters</th>\n",
       "      <td>0.448276</td>\n",
       "      <td>0.000000</td>\n",
       "      <td>1.000000</td>\n",
       "      <td>2.000000</td>\n",
       "    </tr>\n",
       "  </tbody>\n",
       "</table>\n",
       "</div>"
      ],
      "text/plain": [
       "            all data  cluster 1   cluster 2    cluster 3\n",
       "EP_S_U5   146.613430  84.215385  101.034146  1557.238095\n",
       "EP_S_PW    44.430127  19.664615   25.121951   616.190476\n",
       "clusters    0.448276   0.000000    1.000000     2.000000"
      ]
     },
     "execution_count": 42,
     "metadata": {},
     "output_type": "execute_result"
    }
   ],
   "source": [
    "preds2_mean = pd.DataFrame(classification_df2.drop(\"IMM_S\", axis=1).mean())\n",
    "preds2_mean[\"cluster 1\"] = cluster1.mean()\n",
    "preds2_mean[\"cluster 2\"] = cluster2.mean()\n",
    "preds2_mean[\"cluster 3\"] = cluster3.mean()\n",
    "preds2_mean.rename(columns={0: 'all data'}, inplace=True)\n",
    "preds2_mean"
   ]
  },
  {
   "cell_type": "markdown",
   "id": "1bb08376",
   "metadata": {},
   "source": [
    "# 5. Changing variables"
   ]
  },
  {
   "cell_type": "markdown",
   "id": "55772670",
   "metadata": {},
   "source": [
    "Previous experiments were not satisfying, the reason being is that the number of pregnant women and under 5 population is proportional to the population number (urban areas). As a result we will change these features to percentages instead"
   ]
  },
  {
   "cell_type": "code",
   "execution_count": 177,
   "id": "65867f0c",
   "metadata": {},
   "outputs": [
    {
     "data": {
      "text/html": [
       "<div>\n",
       "<style scoped>\n",
       "    .dataframe tbody tr th:only-of-type {\n",
       "        vertical-align: middle;\n",
       "    }\n",
       "\n",
       "    .dataframe tbody tr th {\n",
       "        vertical-align: top;\n",
       "    }\n",
       "\n",
       "    .dataframe thead th {\n",
       "        text-align: right;\n",
       "    }\n",
       "</style>\n",
       "<table border=\"1\" class=\"dataframe\">\n",
       "  <thead>\n",
       "    <tr style=\"text-align: right;\">\n",
       "      <th></th>\n",
       "      <th>EPI_T_EN</th>\n",
       "      <th>IMM_S</th>\n",
       "      <th>TS_C</th>\n",
       "      <th>TS_N_EN</th>\n",
       "      <th>VW_T</th>\n",
       "      <th>HF_L1_T</th>\n",
       "      <th>EPI_S_P</th>\n",
       "      <th>EP_S_U1</th>\n",
       "      <th>EP_S_U5</th>\n",
       "      <th>EP_S_U15</th>\n",
       "      <th>EP_S_PW</th>\n",
       "      <th>EP_S_WCBA</th>\n",
       "    </tr>\n",
       "  </thead>\n",
       "  <tbody>\n",
       "    <tr>\n",
       "      <th>0</th>\n",
       "      <td>3</td>\n",
       "      <td>1</td>\n",
       "      <td>5</td>\n",
       "      <td>5</td>\n",
       "      <td>0</td>\n",
       "      <td>0</td>\n",
       "      <td>37.0</td>\n",
       "      <td>0.0</td>\n",
       "      <td>7.0</td>\n",
       "      <td>14.0</td>\n",
       "      <td>2.0</td>\n",
       "      <td>10.0</td>\n",
       "    </tr>\n",
       "    <tr>\n",
       "      <th>1</th>\n",
       "      <td>0</td>\n",
       "      <td>1</td>\n",
       "      <td>0</td>\n",
       "      <td>0</td>\n",
       "      <td>0</td>\n",
       "      <td>1</td>\n",
       "      <td>947.0</td>\n",
       "      <td>22.0</td>\n",
       "      <td>36.0</td>\n",
       "      <td>189.0</td>\n",
       "      <td>25.0</td>\n",
       "      <td>255.0</td>\n",
       "    </tr>\n",
       "    <tr>\n",
       "      <th>2</th>\n",
       "      <td>1</td>\n",
       "      <td>1</td>\n",
       "      <td>0</td>\n",
       "      <td>0</td>\n",
       "      <td>0</td>\n",
       "      <td>1</td>\n",
       "      <td>89.0</td>\n",
       "      <td>0.0</td>\n",
       "      <td>5.0</td>\n",
       "      <td>25.0</td>\n",
       "      <td>1.0</td>\n",
       "      <td>26.0</td>\n",
       "    </tr>\n",
       "    <tr>\n",
       "      <th>3</th>\n",
       "      <td>0</td>\n",
       "      <td>0</td>\n",
       "      <td>0</td>\n",
       "      <td>0</td>\n",
       "      <td>0</td>\n",
       "      <td>1</td>\n",
       "      <td>386.0</td>\n",
       "      <td>3.0</td>\n",
       "      <td>7.0</td>\n",
       "      <td>39.0</td>\n",
       "      <td>3.0</td>\n",
       "      <td>70.0</td>\n",
       "    </tr>\n",
       "    <tr>\n",
       "      <th>4</th>\n",
       "      <td>0</td>\n",
       "      <td>0</td>\n",
       "      <td>0</td>\n",
       "      <td>0</td>\n",
       "      <td>0</td>\n",
       "      <td>0</td>\n",
       "      <td>186.0</td>\n",
       "      <td>3.0</td>\n",
       "      <td>9.0</td>\n",
       "      <td>43.0</td>\n",
       "      <td>3.0</td>\n",
       "      <td>66.0</td>\n",
       "    </tr>\n",
       "  </tbody>\n",
       "</table>\n",
       "</div>"
      ],
      "text/plain": [
       "   EPI_T_EN  IMM_S  TS_C  TS_N_EN  VW_T  HF_L1_T  EPI_S_P  EP_S_U1  EP_S_U5  \\\n",
       "0         3      1     5        5     0        0     37.0      0.0      7.0   \n",
       "1         0      1     0        0     0        1    947.0     22.0     36.0   \n",
       "2         1      1     0        0     0        1     89.0      0.0      5.0   \n",
       "3         0      0     0        0     0        1    386.0      3.0      7.0   \n",
       "4         0      0     0        0     0        0    186.0      3.0      9.0   \n",
       "\n",
       "   EP_S_U15  EP_S_PW  EP_S_WCBA  \n",
       "0      14.0      2.0       10.0  \n",
       "1     189.0     25.0      255.0  \n",
       "2      25.0      1.0       26.0  \n",
       "3      39.0      3.0       70.0  \n",
       "4      43.0      3.0       66.0  "
      ]
     },
     "execution_count": 177,
     "metadata": {},
     "output_type": "execute_result"
    }
   ],
   "source": [
    "df.head()"
   ]
  },
  {
   "cell_type": "code",
   "execution_count": 279,
   "id": "858823a3",
   "metadata": {},
   "outputs": [
    {
     "data": {
      "text/html": [
       "<div>\n",
       "<style scoped>\n",
       "    .dataframe tbody tr th:only-of-type {\n",
       "        vertical-align: middle;\n",
       "    }\n",
       "\n",
       "    .dataframe tbody tr th {\n",
       "        vertical-align: top;\n",
       "    }\n",
       "\n",
       "    .dataframe thead th {\n",
       "        text-align: right;\n",
       "    }\n",
       "</style>\n",
       "<table border=\"1\" class=\"dataframe\">\n",
       "  <thead>\n",
       "    <tr style=\"text-align: right;\">\n",
       "      <th></th>\n",
       "      <th>EPI_T_EN</th>\n",
       "      <th>IMM_S</th>\n",
       "      <th>VW_T</th>\n",
       "      <th>under_5</th>\n",
       "      <th>pregnant</th>\n",
       "    </tr>\n",
       "  </thead>\n",
       "  <tbody>\n",
       "    <tr>\n",
       "      <th>0</th>\n",
       "      <td>3</td>\n",
       "      <td>1</td>\n",
       "      <td>0</td>\n",
       "      <td>0.189189</td>\n",
       "      <td>0.054054</td>\n",
       "    </tr>\n",
       "    <tr>\n",
       "      <th>1</th>\n",
       "      <td>0</td>\n",
       "      <td>1</td>\n",
       "      <td>0</td>\n",
       "      <td>0.038015</td>\n",
       "      <td>0.026399</td>\n",
       "    </tr>\n",
       "    <tr>\n",
       "      <th>2</th>\n",
       "      <td>1</td>\n",
       "      <td>1</td>\n",
       "      <td>0</td>\n",
       "      <td>0.056180</td>\n",
       "      <td>0.011236</td>\n",
       "    </tr>\n",
       "    <tr>\n",
       "      <th>3</th>\n",
       "      <td>0</td>\n",
       "      <td>0</td>\n",
       "      <td>0</td>\n",
       "      <td>0.018135</td>\n",
       "      <td>0.007772</td>\n",
       "    </tr>\n",
       "    <tr>\n",
       "      <th>4</th>\n",
       "      <td>0</td>\n",
       "      <td>0</td>\n",
       "      <td>0</td>\n",
       "      <td>0.048387</td>\n",
       "      <td>0.016129</td>\n",
       "    </tr>\n",
       "    <tr>\n",
       "      <th>...</th>\n",
       "      <td>...</td>\n",
       "      <td>...</td>\n",
       "      <td>...</td>\n",
       "      <td>...</td>\n",
       "      <td>...</td>\n",
       "    </tr>\n",
       "    <tr>\n",
       "      <th>548</th>\n",
       "      <td>1</td>\n",
       "      <td>0</td>\n",
       "      <td>0</td>\n",
       "      <td>0.031250</td>\n",
       "      <td>0.000000</td>\n",
       "    </tr>\n",
       "    <tr>\n",
       "      <th>549</th>\n",
       "      <td>1</td>\n",
       "      <td>1</td>\n",
       "      <td>0</td>\n",
       "      <td>0.014706</td>\n",
       "      <td>0.000000</td>\n",
       "    </tr>\n",
       "    <tr>\n",
       "      <th>550</th>\n",
       "      <td>1</td>\n",
       "      <td>0</td>\n",
       "      <td>0</td>\n",
       "      <td>0.090909</td>\n",
       "      <td>0.006993</td>\n",
       "    </tr>\n",
       "    <tr>\n",
       "      <th>551</th>\n",
       "      <td>0</td>\n",
       "      <td>0</td>\n",
       "      <td>0</td>\n",
       "      <td>0.098448</td>\n",
       "      <td>0.021402</td>\n",
       "    </tr>\n",
       "    <tr>\n",
       "      <th>552</th>\n",
       "      <td>0</td>\n",
       "      <td>1</td>\n",
       "      <td>0</td>\n",
       "      <td>0.102382</td>\n",
       "      <td>0.052801</td>\n",
       "    </tr>\n",
       "  </tbody>\n",
       "</table>\n",
       "<p>551 rows × 5 columns</p>\n",
       "</div>"
      ],
      "text/plain": [
       "     EPI_T_EN  IMM_S  VW_T   under_5  pregnant\n",
       "0           3      1     0  0.189189  0.054054\n",
       "1           0      1     0  0.038015  0.026399\n",
       "2           1      1     0  0.056180  0.011236\n",
       "3           0      0     0  0.018135  0.007772\n",
       "4           0      0     0  0.048387  0.016129\n",
       "..        ...    ...   ...       ...       ...\n",
       "548         1      0     0  0.031250  0.000000\n",
       "549         1      1     0  0.014706  0.000000\n",
       "550         1      0     0  0.090909  0.006993\n",
       "551         0      0     0  0.098448  0.021402\n",
       "552         0      1     0  0.102382  0.052801\n",
       "\n",
       "[551 rows x 5 columns]"
      ]
     },
     "execution_count": 279,
     "metadata": {},
     "output_type": "execute_result"
    }
   ],
   "source": [
    "df_percent = df.copy()\n",
    "df_percent['under_5'] = (df_percent['EP_S_U5'] / df_percent['EPI_S_P'])\n",
    "df_percent['pregnant'] = (df_percent['EP_S_PW'] / df_percent['EPI_S_P']) \n",
    "df_percent = df_percent.drop(['EP_S_U1', 'EP_S_U15', 'EP_S_WCBA'], axis=1) # remove high correlation ones\n",
    "df_percent = df_percent.drop([\"TS_C\", \"TS_C\", \"TS_N_EN\", \"HF_L1_T\"], axis=1) # remove info about location + immuno strategy one\n",
    "df_percent.drop(['EPI_S_P'], axis=1, inplace=True) # removes total population\n",
    "df_percent.drop(['EP_S_U5', 'EP_S_PW'], axis=1, inplace=True)\n",
    "\n",
    "\n",
    "# df_percent = df_percent.drop([\"TS_C\", \"TS_N_EN\", \"VW_T\", \"HF_L1_T\"], axis=1) # for present\n",
    "\n",
    "# df_percent.drop(['EPI_S_P'], axis=1, inplace=True)\n",
    "df_percent"
   ]
  },
  {
   "cell_type": "code",
   "execution_count": 280,
   "id": "dcb1874e",
   "metadata": {},
   "outputs": [
    {
     "data": {
      "text/html": [
       "<div>\n",
       "<style scoped>\n",
       "    .dataframe tbody tr th:only-of-type {\n",
       "        vertical-align: middle;\n",
       "    }\n",
       "\n",
       "    .dataframe tbody tr th {\n",
       "        vertical-align: top;\n",
       "    }\n",
       "\n",
       "    .dataframe thead th {\n",
       "        text-align: right;\n",
       "    }\n",
       "</style>\n",
       "<table border=\"1\" class=\"dataframe\">\n",
       "  <thead>\n",
       "    <tr style=\"text-align: right;\">\n",
       "      <th></th>\n",
       "      <th>EPI_T_EN</th>\n",
       "      <th>IMM_S</th>\n",
       "      <th>VW_T</th>\n",
       "      <th>under_5</th>\n",
       "      <th>pregnant</th>\n",
       "    </tr>\n",
       "  </thead>\n",
       "  <tbody>\n",
       "    <tr>\n",
       "      <th>0</th>\n",
       "      <td>3</td>\n",
       "      <td>1</td>\n",
       "      <td>0</td>\n",
       "      <td>1.245459</td>\n",
       "      <td>1.212752</td>\n",
       "    </tr>\n",
       "    <tr>\n",
       "      <th>1</th>\n",
       "      <td>0</td>\n",
       "      <td>1</td>\n",
       "      <td>0</td>\n",
       "      <td>-0.936901</td>\n",
       "      <td>0.089888</td>\n",
       "    </tr>\n",
       "    <tr>\n",
       "      <th>2</th>\n",
       "      <td>1</td>\n",
       "      <td>1</td>\n",
       "      <td>0</td>\n",
       "      <td>-0.674670</td>\n",
       "      <td>-0.525779</td>\n",
       "    </tr>\n",
       "    <tr>\n",
       "      <th>3</th>\n",
       "      <td>0</td>\n",
       "      <td>0</td>\n",
       "      <td>0</td>\n",
       "      <td>-1.223890</td>\n",
       "      <td>-0.666425</td>\n",
       "    </tr>\n",
       "    <tr>\n",
       "      <th>4</th>\n",
       "      <td>0</td>\n",
       "      <td>0</td>\n",
       "      <td>0</td>\n",
       "      <td>-0.787166</td>\n",
       "      <td>-0.327107</td>\n",
       "    </tr>\n",
       "    <tr>\n",
       "      <th>...</th>\n",
       "      <td>...</td>\n",
       "      <td>...</td>\n",
       "      <td>...</td>\n",
       "      <td>...</td>\n",
       "      <td>...</td>\n",
       "    </tr>\n",
       "    <tr>\n",
       "      <th>548</th>\n",
       "      <td>1</td>\n",
       "      <td>0</td>\n",
       "      <td>0</td>\n",
       "      <td>-1.034558</td>\n",
       "      <td>-0.981990</td>\n",
       "    </tr>\n",
       "    <tr>\n",
       "      <th>549</th>\n",
       "      <td>1</td>\n",
       "      <td>1</td>\n",
       "      <td>0</td>\n",
       "      <td>-1.273389</td>\n",
       "      <td>-0.981990</td>\n",
       "    </tr>\n",
       "    <tr>\n",
       "      <th>550</th>\n",
       "      <td>1</td>\n",
       "      <td>0</td>\n",
       "      <td>0</td>\n",
       "      <td>-0.173317</td>\n",
       "      <td>-0.698055</td>\n",
       "    </tr>\n",
       "    <tr>\n",
       "      <th>551</th>\n",
       "      <td>0</td>\n",
       "      <td>0</td>\n",
       "      <td>0</td>\n",
       "      <td>-0.064479</td>\n",
       "      <td>-0.113018</td>\n",
       "    </tr>\n",
       "    <tr>\n",
       "      <th>552</th>\n",
       "      <td>0</td>\n",
       "      <td>1</td>\n",
       "      <td>0</td>\n",
       "      <td>-0.007686</td>\n",
       "      <td>1.161876</td>\n",
       "    </tr>\n",
       "  </tbody>\n",
       "</table>\n",
       "<p>551 rows × 5 columns</p>\n",
       "</div>"
      ],
      "text/plain": [
       "     EPI_T_EN  IMM_S  VW_T   under_5  pregnant\n",
       "0           3      1     0  1.245459  1.212752\n",
       "1           0      1     0 -0.936901  0.089888\n",
       "2           1      1     0 -0.674670 -0.525779\n",
       "3           0      0     0 -1.223890 -0.666425\n",
       "4           0      0     0 -0.787166 -0.327107\n",
       "..        ...    ...   ...       ...       ...\n",
       "548         1      0     0 -1.034558 -0.981990\n",
       "549         1      1     0 -1.273389 -0.981990\n",
       "550         1      0     0 -0.173317 -0.698055\n",
       "551         0      0     0 -0.064479 -0.113018\n",
       "552         0      1     0 -0.007686  1.161876\n",
       "\n",
       "[551 rows x 5 columns]"
      ]
     },
     "execution_count": 280,
     "metadata": {},
     "output_type": "execute_result"
    }
   ],
   "source": [
    "temp_df = df_percent[[\"under_5\", \"pregnant\"]]\n",
    "scaler = StandardScaler()\n",
    "scaler.fit(temp_df)\n",
    "temp_df = scaler.transform(temp_df)\n",
    "df_percent[\"under_5\"] = temp_df.transpose()[0]\n",
    "df_percent[\"pregnant\"] = temp_df.transpose()[1]\n",
    "df_percent"
   ]
  },
  {
   "cell_type": "code",
   "execution_count": 281,
   "id": "7d8ab146",
   "metadata": {},
   "outputs": [
    {
     "data": {
      "text/plain": [
       "<AxesSubplot:xlabel='under_5', ylabel='Count'>"
      ]
     },
     "execution_count": 281,
     "metadata": {},
     "output_type": "execute_result"
    },
    {
     "data": {
      "image/png": "[encoded data removed]",
      "text/plain": [
       "<Figure size 864x360 with 1 Axes>"
      ]
     },
     "metadata": {},
     "output_type": "display_data"
    }
   ],
   "source": [
    "sns.histplot(df_percent[\"under_5\"])"
   ]
  },
  {
   "cell_type": "code",
   "execution_count": 282,
   "id": "260f61b4",
   "metadata": {},
   "outputs": [
    {
     "data": {
      "image/png": "[encoded data removed]",
      "text/plain": [
       "<Figure size 864x360 with 2 Axes>"
      ]
     },
     "metadata": {},
     "output_type": "display_data"
    },
    {
     "data": {
      "text/plain": [
       "<AxesSubplot:title={'center':'Distortion Score Elbow for KMeans Clustering'}, xlabel='k', ylabel='distortion score'>"
      ]
     },
     "execution_count": 282,
     "metadata": {},
     "output_type": "execute_result"
    }
   ],
   "source": [
    "model3 = KMeans()\n",
    "visualize = KElbowVisualizer(model3, k=(1,10))\n",
    "visualize.fit(df_percent)\n",
    "visualize.poof()"
   ]
  },
  {
   "cell_type": "code",
   "execution_count": 283,
   "id": "9ea50f8d",
   "metadata": {},
   "outputs": [
    {
     "name": "stdout",
     "output_type": "stream",
     "text": [
      "[0 1 1 1 1 0 1 1 1 1 1 1 1 1 1 1 1 1 1 2 1 1 1 1 1 1 1 1 1 1 1 1 1 1 1 1 1\n",
      " 1 1 1 1 0 1 1 1 1 2 1 1 1 1 1 1 2 1 0 1 1 1 1 1 1 1 1 1 1 1 1 1 0 2 2 0 1\n",
      " 0 0 1 1 1 1 1 1 1 1 1 1 1 1 1 1 2 1 1 1 1 1 1 1 1 1 1 1 1 1 1 1 1 1 1 1 1\n",
      " 1 1 1 1 1 1 1 1 1 1 0 0 0 1 2 2 1 1 1 1 1 1 1 1 1 1 1 1 1 1 1 1 1 1 1 0 1\n",
      " 1 1 1 0 1 1 1 1 1 1 1 1 1 1 0 0 1 1 1 1 1 0 1 1 1 1 1 1 1 1 1 1 1 1 1 1 1\n",
      " 1 2 1 0 1 0 1 0 1 2 1 1 1 1 1 1 1 1 0 1 1 1 1 1 1 1 1 1 1 1 1 1 1 2 1 1 1\n",
      " 1 1 1 1 1 1 1 1 1 1 1 1 1 1 1 0 0 0 1 0 2 1 1 1 1 1 2 2 2 2 1 1 1 0 0 0 0\n",
      " 1 1 1 2 0 1 0 0 0 1 0 1 0 1 1 0 1 1 1 1 1 1 1 1 1 1 1 1 1 1 1 1 1 1 1 1 1\n",
      " 1 1 1 1 1 1 1 1 1 1 0 0 1 0 0 0 0 0 0 0 1 0 0 0 1 0 0 1 0 0 1 0 2 1 1 1 1\n",
      " 1 1 1 1 1 1 1 0 1 1 1 1 1 1 2 2 2 1 1 1 1 1 1 1 1 1 1 1 1 1 1 1 1 1 1 1 1\n",
      " 1 1 1 1 1 1 1 1 1 0 1 1 1 2 0 0 0 0 0 0 0 0 0 0 0 0 0 0 0 0 0 0 0 0 0 0 0\n",
      " 0 0 0 0 0 0 0 0 0 0 0 0 0 0 0 0 0 0 0 0 0 2 0 1 1 0 0 0 0 0 0 1 1 1 0 1 1\n",
      " 0 2 0 1 0 0 1 1 1 2 0 1 1 0 0 0 1 0 1 1 1 1 0 0 1 1 0 0 0 2 0 0 1 1 0 1 1\n",
      " 1 1 1 1 0 0 0 0 1 2 0 0 1 0 0 0 0 0 0 0 0 1 1 2 1 1 1 1 1 1 1 1 2 1 1 1 1\n",
      " 1 1 1 1 1 1 1 1 1 2 1 1 1 1 1 1 1 1 1 1 1 1 1 1 1 1 1 1 1 1 1 1 1]\n"
     ]
    }
   ],
   "source": [
    "n_clusters = 3\n",
    "\n",
    "km = KMeans(\n",
    "    n_clusters=n_clusters, init='random',\n",
    "    n_init=10, max_iter=1000, \n",
    "    tol=1e-04, random_state=42\n",
    ")\n",
    "y_km3 = km.fit_predict(df_percent)\n",
    "print(y_km3)"
   ]
  },
  {
   "cell_type": "code",
   "execution_count": 284,
   "id": "f5d954f2",
   "metadata": {},
   "outputs": [
    {
     "name": "stdout",
     "output_type": "stream",
     "text": [
      "Saved @ outputs/classification_5_features_kmeans_with_percentages_+totalpopulation+EPI_T_EN_k3.csv\n"
     ]
    }
   ],
   "source": [
    "save(y_km3, f'classification_5_features_kmeans_with_percentages_+totalpopulation+EPI_T_EN_k{n_clusters}.csv', epi_id_idf)"
   ]
  },
  {
   "cell_type": "code",
   "execution_count": 285,
   "id": "0345526f",
   "metadata": {},
   "outputs": [],
   "source": [
    "# from mpl_toolkits.mplot3d import Axes3D\n",
    "\n",
    "# fig = plt.figure()\n",
    "# ax = fig.add_subplot(111, projection='3d')\n",
    "# # x = np.array(df_percent['EPI_T_EN'])\n",
    "# y = np.array(df_percent['under_5'])\n",
    "# z = np.array(df_percent['pregnant'])\n",
    "\n",
    "# ax.scatter(x,y,z, marker=\"s\", c=y_km3, s=40, cmap=\"viridis\")\n",
    "\n",
    "# plt.show()"
   ]
  },
  {
   "cell_type": "code",
   "execution_count": 286,
   "id": "f91a7d61",
   "metadata": {},
   "outputs": [
    {
     "data": {
      "text/html": [
       "<div>\n",
       "<style scoped>\n",
       "    .dataframe tbody tr th:only-of-type {\n",
       "        vertical-align: middle;\n",
       "    }\n",
       "\n",
       "    .dataframe tbody tr th {\n",
       "        vertical-align: top;\n",
       "    }\n",
       "\n",
       "    .dataframe thead th {\n",
       "        text-align: right;\n",
       "    }\n",
       "</style>\n",
       "<table border=\"1\" class=\"dataframe\">\n",
       "  <thead>\n",
       "    <tr style=\"text-align: right;\">\n",
       "      <th></th>\n",
       "      <th>EPI_T_EN</th>\n",
       "      <th>IMM_S</th>\n",
       "      <th>VW_T</th>\n",
       "      <th>under_5</th>\n",
       "      <th>pregnant</th>\n",
       "      <th>clusters</th>\n",
       "    </tr>\n",
       "  </thead>\n",
       "  <tbody>\n",
       "    <tr>\n",
       "      <th>0</th>\n",
       "      <td>3</td>\n",
       "      <td>1</td>\n",
       "      <td>0</td>\n",
       "      <td>1.245459</td>\n",
       "      <td>1.212752</td>\n",
       "      <td>0</td>\n",
       "    </tr>\n",
       "    <tr>\n",
       "      <th>1</th>\n",
       "      <td>0</td>\n",
       "      <td>1</td>\n",
       "      <td>0</td>\n",
       "      <td>-0.936901</td>\n",
       "      <td>0.089888</td>\n",
       "      <td>1</td>\n",
       "    </tr>\n",
       "    <tr>\n",
       "      <th>2</th>\n",
       "      <td>1</td>\n",
       "      <td>1</td>\n",
       "      <td>0</td>\n",
       "      <td>-0.674670</td>\n",
       "      <td>-0.525779</td>\n",
       "      <td>1</td>\n",
       "    </tr>\n",
       "    <tr>\n",
       "      <th>3</th>\n",
       "      <td>0</td>\n",
       "      <td>0</td>\n",
       "      <td>0</td>\n",
       "      <td>-1.223890</td>\n",
       "      <td>-0.666425</td>\n",
       "      <td>1</td>\n",
       "    </tr>\n",
       "    <tr>\n",
       "      <th>4</th>\n",
       "      <td>0</td>\n",
       "      <td>0</td>\n",
       "      <td>0</td>\n",
       "      <td>-0.787166</td>\n",
       "      <td>-0.327107</td>\n",
       "      <td>1</td>\n",
       "    </tr>\n",
       "  </tbody>\n",
       "</table>\n",
       "</div>"
      ],
      "text/plain": [
       "   EPI_T_EN  IMM_S  VW_T   under_5  pregnant  clusters\n",
       "0         3      1     0  1.245459  1.212752         0\n",
       "1         0      1     0 -0.936901  0.089888         1\n",
       "2         1      1     0 -0.674670 -0.525779         1\n",
       "3         0      0     0 -1.223890 -0.666425         1\n",
       "4         0      0     0 -0.787166 -0.327107         1"
      ]
     },
     "execution_count": 286,
     "metadata": {},
     "output_type": "execute_result"
    }
   ],
   "source": [
    "df_percent[\"clusters\"] = km.labels_\n",
    "df_percent.head()"
   ]
  },
  {
   "cell_type": "code",
   "execution_count": 287,
   "id": "ffc8b5c5",
   "metadata": {},
   "outputs": [
    {
     "data": {
      "text/html": [
       "<div>\n",
       "<style scoped>\n",
       "    .dataframe tbody tr th:only-of-type {\n",
       "        vertical-align: middle;\n",
       "    }\n",
       "\n",
       "    .dataframe tbody tr th {\n",
       "        vertical-align: top;\n",
       "    }\n",
       "\n",
       "    .dataframe thead th {\n",
       "        text-align: right;\n",
       "    }\n",
       "</style>\n",
       "<table border=\"1\" class=\"dataframe\">\n",
       "  <thead>\n",
       "    <tr style=\"text-align: right;\">\n",
       "      <th></th>\n",
       "      <th>all data</th>\n",
       "      <th>cluster 0</th>\n",
       "      <th>cluster 1</th>\n",
       "      <th>cluster 2</th>\n",
       "    </tr>\n",
       "  </thead>\n",
       "  <tbody>\n",
       "    <tr>\n",
       "      <th>IMM_S</th>\n",
       "      <td>3.793103e-01</td>\n",
       "      <td>0.591241</td>\n",
       "      <td>0.312500</td>\n",
       "      <td>0.266667</td>\n",
       "    </tr>\n",
       "    <tr>\n",
       "      <th>VW_T</th>\n",
       "      <td>2.141561e-01</td>\n",
       "      <td>0.605839</td>\n",
       "      <td>0.078125</td>\n",
       "      <td>0.166667</td>\n",
       "    </tr>\n",
       "    <tr>\n",
       "      <th>under_5</th>\n",
       "      <td>-3.868654e-17</td>\n",
       "      <td>-0.215233</td>\n",
       "      <td>-0.116529</td>\n",
       "      <td>2.474468</td>\n",
       "    </tr>\n",
       "    <tr>\n",
       "      <th>pregnant</th>\n",
       "      <td>-1.934327e-17</td>\n",
       "      <td>-0.307916</td>\n",
       "      <td>-0.110842</td>\n",
       "      <td>2.824929</td>\n",
       "    </tr>\n",
       "    <tr>\n",
       "      <th>clusters</th>\n",
       "      <td>8.058076e-01</td>\n",
       "      <td>0.000000</td>\n",
       "      <td>1.000000</td>\n",
       "      <td>2.000000</td>\n",
       "    </tr>\n",
       "  </tbody>\n",
       "</table>\n",
       "</div>"
      ],
      "text/plain": [
       "              all data  cluster 0  cluster 1  cluster 2\n",
       "IMM_S     3.793103e-01   0.591241   0.312500   0.266667\n",
       "VW_T      2.141561e-01   0.605839   0.078125   0.166667\n",
       "under_5  -3.868654e-17  -0.215233  -0.116529   2.474468\n",
       "pregnant -1.934327e-17  -0.307916  -0.110842   2.824929\n",
       "clusters  8.058076e-01   0.000000   1.000000   2.000000"
      ]
     },
     "execution_count": 287,
     "metadata": {},
     "output_type": "execute_result"
    }
   ],
   "source": [
    "drop = ['EPI_T_EN']\n",
    "cluster1 = df_percent.drop(drop, axis=1)[df_percent.clusters == 0]\n",
    "cluster2 = df_percent.drop(drop, axis=1)[df_percent.clusters == 1]\n",
    "cluster3 = df_percent.drop(drop, axis=1)[df_percent.clusters == 2]\n",
    "# cluster4 = df_percent.drop(drop, axis=1)[df_percent.clusters == 3]\n",
    "\n",
    "# cluster1 = df_percent[df_percent.clusters == 0]\n",
    "# cluster2 = df_percent[df_percent.clusters == 1]\n",
    "# cluster3 = df_percent[df_percent.clusters == 2]\n",
    "\n",
    "preds3_mean = pd.DataFrame(df_percent.drop(drop, axis=1).mean()) # drop\n",
    "# preds3_mean = pd.DataFrame(df_percent.mean()) # not drop\n",
    "preds3_mean[\"cluster 0\"] = cluster1.mean()\n",
    "preds3_mean[\"cluster 1\"] = cluster2.mean()\n",
    "preds3_mean[\"cluster 2\"] = cluster3.mean()\n",
    "# preds3_mean[\"cluster 3\"] = cluster4.mean()\n",
    "preds3_mean.rename(columns={0: 'all data'}, inplace=True)\n",
    "preds3_mean"
   ]
  },
  {
   "cell_type": "code",
   "execution_count": null,
   "id": "cebbe099",
   "metadata": {},
   "outputs": [],
   "source": []
  },
  {
   "cell_type": "code",
   "execution_count": null,
   "id": "68e4445c",
   "metadata": {},
   "outputs": [],
   "source": []
  }
 ],
 "metadata": {
  "kernelspec": {
   "display_name": "Python 3 (ipykernel)",
   "language": "python",
   "name": "python3"
  },
  "language_info": {
   "codemirror_mode": {
    "name": "ipython",
    "version": 3
   },
   "file_extension": ".py",
   "mimetype": "text/x-python",
   "name": "python",
   "nbconvert_exporter": "python",
   "pygments_lexer": "ipython3",
   "version": "3.9.7"
  }
 },
 "nbformat": 4,
 "nbformat_minor": 5
}
